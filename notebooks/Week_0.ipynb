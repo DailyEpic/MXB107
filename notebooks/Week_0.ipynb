{
  "nbformat": 4,
  "nbformat_minor": 0,
  "metadata": {
    "colab": {
      "provenance": [],
      "gpuType": "T4"
    },
    "kernelspec": {
      "name": "ir",
      "display_name": "R"
    },
    "language_info": {
      "name": "R"
    },
    "accelerator": "GPU"
  },
  "cells": [
    {
      "cell_type": "markdown",
      "source": [
        "# **Welcome to MXB107: Probability and Statistics**\n",
        "\n",
        "```\n",
        ".------------------------------------.\n",
        "|   __  ____  ______  _  ___ _____   |\n",
        "|  |  \\/  \\ \\/ / __ )/ |/ _ \\___  |  |\n",
        "|  | |\\/| |\\  /|  _ \\| | | | | / /   |\n",
        "|  | |  | |/  \\| |_) | | |_| |/ /    |\n",
        "|  |_|  |_/_/\\_\\____/|_|\\___//_/     |\n",
        "'------------------------------------'\n",
        "\n",
        "```\n"
      ],
      "metadata": {
        "id": "ZtpJJ8BSHOaK"
      }
    },
    {
      "cell_type": "markdown",
      "source": [
        "In this unit, you will be introduced to the R programming language through Google Colab, with a focus on its applications in statistical modeling. There's no need to install R or [RStudio](https://posit.co/download/rstudio-desktop/) on your computer—just an internet connection and a web browser are all you need."
      ],
      "metadata": {
        "id": "SpK9XLxlHOcm"
      }
    },
    {
      "cell_type": "markdown",
      "source": [
        "## **About Google Colab**\n",
        "\n",
        "Google Colab is a free, cloud-based platform that allows you to write and run code directly from your browser, with no setup required. Originally designed for Python, it also supports other languages like R. Colab provides access to powerful computing resources, including GPUs, making it ideal for data analysis, machine learning, and interactive coding tutorials. Its integration with Google Drive ensures that your notebooks are automatically saved and easily shareable, making collaboration seamless and efficient."
      ],
      "metadata": {
        "id": "rg0MAUUdOHBd"
      }
    },
    {
      "cell_type": "markdown",
      "source": [
        "## **Switching to the R Kernel in Google Colab**"
      ],
      "metadata": {
        "id": "7FlDrxXdOG_u"
      }
    },
    {
      "cell_type": "markdown",
      "source": [
        "By default, Google Colab uses Python as its programming language. To use R instead, you’ll need to manually switch the kernel by going to **Runtime > Change runtime type**, and selecting R as the kernel. This allows you to run R code in the Colab environment.\n",
        "\n",
        "However, our notebook is already configured to use R by default. Unless something goes wrong, you shouldn’t need to manually change runtime type."
      ],
      "metadata": {
        "id": "Cq8hzz78OfZ9"
      }
    },
    {
      "cell_type": "markdown",
      "source": [
        "### **Executing your first R code cell**\n",
        "\n",
        "**To run a code cell**:\n",
        "\n",
        "- Click the ▶️ button to the left of the cell,  \n",
        "- Or press **Ctrl + Enter** (on Windows),  \n",
        "- Or press **Cmd + Return** (on macOS).\n"
      ],
      "metadata": {
        "id": "qJkA7PSHQNRv"
      }
    },
    {
      "cell_type": "markdown",
      "source": [
        "This code cell will output **something** only if the R kernel is active; otherwise, it will produce an error."
      ],
      "metadata": {
        "id": "pekRLo7kz0Hc"
      }
    },
    {
      "cell_type": "code",
      "source": [
        "if (!require(\"cowsay\")) install.packages(\"cowsay\"); library(\"cowsay\")\n",
        "say(\"Welcome to MXB107!\", by = \"pig\")"
      ],
      "metadata": {
        "id": "PB-V7bUNtBIX",
        "colab": {
          "base_uri": "https://localhost:8080/"
        },
        "outputId": "248d0c65-840e-45ef-8fc6-720be2165faa"
      },
      "execution_count": 2,
      "outputs": [
        {
          "output_type": "stream",
          "name": "stdout",
          "text": [
            "\n",
            " ____________________ \n",
            "< Welcome to MXB107! >\n",
            " -------------------- \n",
            "     \\\n",
            "      \\\n",
            "\n",
            "       _//| .-~~~-.\n",
            "     _/oo  }       }-@\n",
            "    ('')_  }       |\n",
            "     `--'| { }--{  }\n",
            "          //_/  /_/ [nosig]"
          ]
        }
      ]
    },
    {
      "cell_type": "markdown",
      "source": [
        "### **Creating your first R code cell**\n",
        "\n",
        "To create a new code cell, click the `+ Code` button at the top-left of the notebook. To insert a code cell immediately below an existing one, first click inside that code cell.\n"
      ],
      "metadata": {
        "id": "bFNhXwn21kAH"
      }
    },
    {
      "cell_type": "markdown",
      "source": [
        "\n",
        "#### **Exercise**\n",
        "\n",
        "Create a new code cell below this, enter `say(\"Your first code cell!\", by = \"cat\")`, and execute it."
      ],
      "metadata": {
        "id": "Zv2d6tKjfCLx"
      }
    },
    {
      "cell_type": "markdown",
      "source": [
        "<details>\n",
        "<summary>▶️ Click to show the solution</summary>\n",
        "\n",
        "```r\n",
        "say(\"Your first code cell!\", by = \"cat\")\n",
        "```\n",
        "\n",
        "</details>"
      ],
      "metadata": {
        "id": "1Oyuzr40RSyr"
      }
    },
    {
      "cell_type": "markdown",
      "source": [
        "## **Introduction to the R Programming Languague**"
      ],
      "metadata": {
        "id": "75dEkRi-1CuP"
      }
    },
    {
      "cell_type": "markdown",
      "source": [
        "## **Atomic Data Types in R**\n",
        "\n",
        "\n",
        "Atomic types are the simplest building blocks in R that store individual values such as numbers, text, or logicals. These atomic types form the foundation for creating more complex data structures such as vectors, lists, and data frames.\n",
        "\n",
        "Think of atomic types like the individual cells in an Excel spreadsheet, each holding a single piece of data. Just as cells combine to create sheets and workbooks, atomic types combine in R to build complex datasets."
      ],
      "metadata": {
        "id": "QQk0hFIGFfzd"
      }
    },
    {
      "cell_type": "markdown",
      "source": [
        "### **Double**\n",
        "\n",
        "Double (double-floating point) values represent real numbers (with or without decimals) and are one of the most common atomic types in R. For example, `0.1` represents 0.1."
      ],
      "metadata": {
        "id": "LecV-KrxHdQJ"
      }
    },
    {
      "cell_type": "code",
      "source": [
        "0.1\n",
        "typeof(0.1)"
      ],
      "metadata": {
        "id": "jzPh13GGIDuj",
        "colab": {
          "base_uri": "https://localhost:8080/",
          "height": 52
        },
        "outputId": "c6785a11-d26f-48c3-bf8b-ddd138ee2a94"
      },
      "execution_count": 7,
      "outputs": [
        {
          "output_type": "display_data",
          "data": {
            "text/html": [
              "0.1"
            ],
            "text/markdown": "0.1",
            "text/latex": "0.1",
            "text/plain": [
              "[1] 0.1"
            ]
          },
          "metadata": {}
        },
        {
          "output_type": "display_data",
          "data": {
            "text/html": [
              "'double'"
            ],
            "text/markdown": "'double'",
            "text/latex": "'double'",
            "text/plain": [
              "[1] \"double\""
            ]
          },
          "metadata": {}
        }
      ]
    },
    {
      "cell_type": "markdown",
      "source": [
        "#### **Is This Exactly 0.1**?\n",
        "\n",
        "Might not be the case (see [IEEE 754 - Wikipedia](https://en.wikipedia.org/wiki/IEEE_754)). Real numbers are uncountably infinite, but computers have only finite memory, so there might be some \"generally acceptable\" representation error. However, they can propagate and affect the accuracy of your results if not handled correctly (beyond the scope of this unit)."
      ],
      "metadata": {
        "id": "bZj5a56CIXA_"
      }
    },
    {
      "cell_type": "markdown",
      "source": [
        "#### **Is `0.1 + 0.2` equal to `0.3`**?"
      ],
      "metadata": {
        "id": "kpOD5P2ClMrF"
      }
    },
    {
      "cell_type": "code",
      "source": [
        "0.1 + 0.2 == 0.3"
      ],
      "metadata": {
        "id": "LaPfMi6llJ-K",
        "colab": {
          "base_uri": "https://localhost:8080/",
          "height": 34
        },
        "outputId": "dfab6647-e5ff-44ed-9d52-759b1d03038b"
      },
      "execution_count": 4,
      "outputs": [
        {
          "output_type": "display_data",
          "data": {
            "text/html": [
              "FALSE"
            ],
            "text/markdown": "FALSE",
            "text/latex": "FALSE",
            "text/plain": [
              "[1] FALSE"
            ]
          },
          "metadata": {}
        }
      ]
    },
    {
      "cell_type": "markdown",
      "source": [
        "**FYI: What about their numerical representations in our computers?**"
      ],
      "metadata": {
        "id": "r7UhjQSG0MP6"
      }
    },
    {
      "cell_type": "code",
      "source": [
        "writeBin(0.1 + 0.2, raw(), size = 8)  # 8 bytes = 64 bits\n",
        "writeBin(0.3, raw(), size = 8)"
      ],
      "metadata": {
        "id": "WplCkw0u0AJb",
        "colab": {
          "base_uri": "https://localhost:8080/",
          "height": 53
        },
        "outputId": "e4fa6c5e-d08f-48b7-b687-d94ef456dbb3"
      },
      "execution_count": 5,
      "outputs": [
        {
          "output_type": "display_data",
          "data": {
            "text/plain": [
              "[1] 34 33 33 33 33 33 d3 3f"
            ]
          },
          "metadata": {}
        },
        {
          "output_type": "display_data",
          "data": {
            "text/plain": [
              "[1] 33 33 33 33 33 33 d3 3f"
            ]
          },
          "metadata": {}
        }
      ]
    },
    {
      "cell_type": "markdown",
      "source": [
        "They differ only in the least significant byte, which is `34` vs `33`. This is the very smallest possible change in a double."
      ],
      "metadata": {
        "id": "9i7TRiW90Rwy"
      }
    },
    {
      "cell_type": "markdown",
      "source": [
        "**`all.equal()` to the Rescue: Safer Number Comparison in R**"
      ],
      "metadata": {
        "id": "X-xctJx2zuRp"
      }
    },
    {
      "cell_type": "code",
      "source": [
        "all.equal(0.1 + 0.2, 0.3)"
      ],
      "metadata": {
        "id": "Q32mxandzF9r",
        "colab": {
          "base_uri": "https://localhost:8080/",
          "height": 34
        },
        "outputId": "d1d537ff-2f21-4f3f-9b59-5e8dfef98e5f"
      },
      "execution_count": 6,
      "outputs": [
        {
          "output_type": "display_data",
          "data": {
            "text/html": [
              "TRUE"
            ],
            "text/markdown": "TRUE",
            "text/latex": "TRUE",
            "text/plain": [
              "[1] TRUE"
            ]
          },
          "metadata": {}
        }
      ]
    },
    {
      "cell_type": "markdown",
      "source": [
        "### **Integer**\n",
        "\n",
        "In R, integers represent whole numbers without decimal points. We can create them using the `L` suffix, like `5L`, and check their type with `typeof(5L)`."
      ],
      "metadata": {
        "id": "JE7B6j-BJpaw"
      }
    },
    {
      "cell_type": "code",
      "source": [
        "5L\n",
        "typeof(5L)\n",
        "typeof(5)"
      ],
      "metadata": {
        "id": "cuE4bfpOKBmg",
        "colab": {
          "base_uri": "https://localhost:8080/",
          "height": 69
        },
        "outputId": "360f765e-3109-459c-b6d3-6ec01cbdba2c"
      },
      "execution_count": 8,
      "outputs": [
        {
          "output_type": "display_data",
          "data": {
            "text/html": [
              "5"
            ],
            "text/markdown": "5",
            "text/latex": "5",
            "text/plain": [
              "[1] 5"
            ]
          },
          "metadata": {}
        },
        {
          "output_type": "display_data",
          "data": {
            "text/html": [
              "'integer'"
            ],
            "text/markdown": "'integer'",
            "text/latex": "'integer'",
            "text/plain": [
              "[1] \"integer\""
            ]
          },
          "metadata": {}
        },
        {
          "output_type": "display_data",
          "data": {
            "text/html": [
              "'double'"
            ],
            "text/markdown": "'double'",
            "text/latex": "'double'",
            "text/plain": [
              "[1] \"double\""
            ]
          },
          "metadata": {}
        }
      ]
    },
    {
      "cell_type": "markdown",
      "source": [
        "**FYI**: Integers and doubles are stored differently in memory. Integers use a fixed number of bits to represent whole numbers exactly, while doubles (floating-point numbers) follow the IEEE 754 standard to represent real numbers approximately."
      ],
      "metadata": {
        "id": "bnKDd6vFKQKi"
      }
    },
    {
      "cell_type": "markdown",
      "source": [
        "### **Character**\n",
        "\n",
        "Characters in R represent text data, such as letters, words, or sentences. They are enclosed in either single or double quotes, for example, `\"hello\"` or `'world'`.  \n",
        "\n",
        "This data type is common in any programming languages and is used for many basic but essential tasks, such as specifying paths to a directory (e.g., `\"content/path\"`), specifying a name (e.g., an R package's name like `\"ggplot2\"`), storing information)."
      ],
      "metadata": {
        "id": "DqzwtSaoNfi3"
      }
    },
    {
      "cell_type": "code",
      "source": [
        "\"Welcome to MXB107!\"\n",
        "typeof(\"Welcome to MXB107!\")"
      ],
      "metadata": {
        "id": "3vPeeBNvO0ZU",
        "colab": {
          "base_uri": "https://localhost:8080/",
          "height": 52
        },
        "outputId": "b7c64639-7c0a-4c50-d590-fbb7aa75eeeb"
      },
      "execution_count": 9,
      "outputs": [
        {
          "output_type": "display_data",
          "data": {
            "text/html": [
              "'Welcome to MXB107!'"
            ],
            "text/markdown": "'Welcome to MXB107!'",
            "text/latex": "'Welcome to MXB107!'",
            "text/plain": [
              "[1] \"Welcome to MXB107!\""
            ]
          },
          "metadata": {}
        },
        {
          "output_type": "display_data",
          "data": {
            "text/html": [
              "'character'"
            ],
            "text/markdown": "'character'",
            "text/latex": "'character'",
            "text/plain": [
              "[1] \"character\""
            ]
          },
          "metadata": {}
        }
      ]
    },
    {
      "cell_type": "markdown",
      "source": [
        "#### **Print a `character`**\n",
        "\n",
        "Printing characters is useful when you want to display messages during execution, such as status updates or error messages (there are dedicated functions in R for issuing warnings and errors)."
      ],
      "metadata": {
        "id": "TfjPrJL7Qa7h"
      }
    },
    {
      "cell_type": "code",
      "source": [
        "print(\"Faculty of Science\")"
      ],
      "metadata": {
        "id": "rOohGoc6PKp5",
        "colab": {
          "base_uri": "https://localhost:8080/"
        },
        "outputId": "0f9ea04c-7e90-411c-de10-8ecbef36468e"
      },
      "execution_count": 10,
      "outputs": [
        {
          "output_type": "stream",
          "name": "stdout",
          "text": [
            "[1] \"Faculty of Science\"\n"
          ]
        }
      ]
    },
    {
      "cell_type": "markdown",
      "source": [
        "#### **What Does \\# Do**?\n",
        "\n",
        "In R, anything following # on a line is treated as a comment and is not executed. It’s good practice to include comments in your code to explain what it does, making it easier to understand and maintain."
      ],
      "metadata": {
        "id": "gg5rlBvzPjpY"
      }
    },
    {
      "cell_type": "markdown",
      "source": [
        "### **Logical**\n",
        "\n",
        "Logical values in R are `TRUE` (or equivalently, `T`) and `FALSE` (or equivalently, `F`) . These are used for decisions, filtering, and control flow and can be created via comparision operators or more generally, evaluation of some expressions in R.\n"
      ],
      "metadata": {
        "id": "Qk3Z_Q1XTCYp"
      }
    },
    {
      "cell_type": "code",
      "source": [
        "T\n",
        "TRUE\n",
        "F\n",
        "FALSE"
      ],
      "metadata": {
        "id": "A-XI61PYTKex",
        "colab": {
          "base_uri": "https://localhost:8080/",
          "height": 86
        },
        "outputId": "04c840ec-e3ef-4260-db9e-ac828cc2b31b"
      },
      "execution_count": 11,
      "outputs": [
        {
          "output_type": "display_data",
          "data": {
            "text/html": [
              "TRUE"
            ],
            "text/markdown": "TRUE",
            "text/latex": "TRUE",
            "text/plain": [
              "[1] TRUE"
            ]
          },
          "metadata": {}
        },
        {
          "output_type": "display_data",
          "data": {
            "text/html": [
              "TRUE"
            ],
            "text/markdown": "TRUE",
            "text/latex": "TRUE",
            "text/plain": [
              "[1] TRUE"
            ]
          },
          "metadata": {}
        },
        {
          "output_type": "display_data",
          "data": {
            "text/html": [
              "FALSE"
            ],
            "text/markdown": "FALSE",
            "text/latex": "FALSE",
            "text/plain": [
              "[1] FALSE"
            ]
          },
          "metadata": {}
        },
        {
          "output_type": "display_data",
          "data": {
            "text/html": [
              "FALSE"
            ],
            "text/markdown": "FALSE",
            "text/latex": "FALSE",
            "text/plain": [
              "[1] FALSE"
            ]
          },
          "metadata": {}
        }
      ]
    },
    {
      "cell_type": "markdown",
      "source": [
        "R can generate logical results via comparison operators:\n",
        "\n",
        "- `==` for equality\n",
        "- `<` / `<=` for less than and less than or equal to\n",
        "- `>` / `>=` for greater than and greater than or equal to"
      ],
      "metadata": {
        "id": "p9fYRdZ0UhX0"
      }
    },
    {
      "cell_type": "code",
      "source": [
        "5 < 3\n",
        "\"a\" == \"a\"\n",
        "\"a\" < \"b\""
      ],
      "metadata": {
        "id": "uyR4OrCTUfkW",
        "colab": {
          "base_uri": "https://localhost:8080/",
          "height": 69
        },
        "outputId": "b5811238-2623-4d0c-884d-d1f88bf6cbc9"
      },
      "execution_count": 12,
      "outputs": [
        {
          "output_type": "display_data",
          "data": {
            "text/html": [
              "FALSE"
            ],
            "text/markdown": "FALSE",
            "text/latex": "FALSE",
            "text/plain": [
              "[1] FALSE"
            ]
          },
          "metadata": {}
        },
        {
          "output_type": "display_data",
          "data": {
            "text/html": [
              "TRUE"
            ],
            "text/markdown": "TRUE",
            "text/latex": "TRUE",
            "text/plain": [
              "[1] TRUE"
            ]
          },
          "metadata": {}
        },
        {
          "output_type": "display_data",
          "data": {
            "text/html": [
              "TRUE"
            ],
            "text/markdown": "TRUE",
            "text/latex": "TRUE",
            "text/plain": [
              "[1] TRUE"
            ]
          },
          "metadata": {}
        }
      ]
    },
    {
      "cell_type": "markdown",
      "source": [
        "More generally, R can generate logical results by evaluating expressions. For example, functions like `is.numeric()` return `TRUE` or `FALSE` depending on the input.\n"
      ],
      "metadata": {
        "id": "6rfaI8ANT9UJ"
      }
    },
    {
      "cell_type": "code",
      "source": [
        "is.numeric(\"a\")\n",
        "is.numeric(1)"
      ],
      "metadata": {
        "id": "Qibiy16UT4TY",
        "colab": {
          "base_uri": "https://localhost:8080/",
          "height": 52
        },
        "outputId": "714e9a43-9962-4263-f20f-9899fcb56568"
      },
      "execution_count": 13,
      "outputs": [
        {
          "output_type": "display_data",
          "data": {
            "text/html": [
              "FALSE"
            ],
            "text/markdown": "FALSE",
            "text/latex": "FALSE",
            "text/plain": [
              "[1] FALSE"
            ]
          },
          "metadata": {}
        },
        {
          "output_type": "display_data",
          "data": {
            "text/html": [
              "TRUE"
            ],
            "text/markdown": "TRUE",
            "text/latex": "TRUE",
            "text/plain": [
              "[1] TRUE"
            ]
          },
          "metadata": {}
        }
      ]
    },
    {
      "cell_type": "markdown",
      "source": [
        "## **R as a Calculator**"
      ],
      "metadata": {
        "id": "lHNWd3ZO1GQq"
      }
    },
    {
      "cell_type": "markdown",
      "source": [
        "R is essentially just a really powerful calculator, kind of like those you may have been required to purchase for high school maths, only better and with a much higher limit on what it can achieve.\n",
        "\n",
        "Doing computation in R involves writing code. We can create a code cell, type directly into that and run code, and it will give us an answer like a calculator."
      ],
      "metadata": {
        "id": "oqJuaNCi2zOc"
      }
    },
    {
      "cell_type": "markdown",
      "source": [
        "### **Double Operations**"
      ],
      "metadata": {
        "id": "rp26CeoJ5dG3"
      }
    },
    {
      "cell_type": "markdown",
      "source": [
        "Common double operators include:\n",
        "\n",
        "- `+` for addition (e.g., `2.5 + 1.5`)\n",
        "- `-` for subtraction (e.g., `5.0 - 2.0`)\n",
        "- `*` for multiplication (e.g., `3.0 * 4.0`)\n",
        "- `/` for division (e.g., `10.0 / 2.0`)\n",
        "- `^` for exponentiation (e.g., `10.0 ^ 2.0`)\n",
        "- '%%' for modulo (remainder) (e.g., `10 %% 2`)\n",
        "\n",
        "These operations follow standard arithmetic rules and return results as doubles. We can use parentheses `()` to change the order of evaluation and control operator precedence in expressions. See [R: Operator Syntax and Precedence](https://stat.ethz.ch/R-manual/R-devel/library/base/html/Syntax.html) for more details."
      ],
      "metadata": {
        "id": "_jZJKEkSLyhJ"
      }
    },
    {
      "cell_type": "code",
      "source": [
        "2.5 + 1.5\n",
        "typeof(2.5+1.5)\n",
        "\n",
        "#\n",
        "2*(5 - 2)^2 + 3\n",
        "typeof((5 - 2)^2 + 3)"
      ],
      "metadata": {
        "id": "80fMOw5X1iTS",
        "colab": {
          "base_uri": "https://localhost:8080/",
          "height": 86
        },
        "outputId": "3c60ef0a-1a00-4d14-883d-f54c66075f7c"
      },
      "execution_count": 14,
      "outputs": [
        {
          "output_type": "display_data",
          "data": {
            "text/html": [
              "4"
            ],
            "text/markdown": "4",
            "text/latex": "4",
            "text/plain": [
              "[1] 4"
            ]
          },
          "metadata": {}
        },
        {
          "output_type": "display_data",
          "data": {
            "text/html": [
              "'double'"
            ],
            "text/markdown": "'double'",
            "text/latex": "'double'",
            "text/plain": [
              "[1] \"double\""
            ]
          },
          "metadata": {}
        },
        {
          "output_type": "display_data",
          "data": {
            "text/html": [
              "21"
            ],
            "text/markdown": "21",
            "text/latex": "21",
            "text/plain": [
              "[1] 21"
            ]
          },
          "metadata": {}
        },
        {
          "output_type": "display_data",
          "data": {
            "text/html": [
              "'double'"
            ],
            "text/markdown": "'double'",
            "text/latex": "'double'",
            "text/plain": [
              "[1] \"double\""
            ]
          },
          "metadata": {}
        }
      ]
    },
    {
      "cell_type": "markdown",
      "source": [
        "#### **Exercise**\n",
        "\n",
        "Work out how to divide 50 by 4, then compute 14 multiplied by the sum of 4 and 6, divided by 2. What are the data types of the results?"
      ],
      "metadata": {
        "id": "i9zTWhd-R9r0"
      }
    },
    {
      "cell_type": "code",
      "source": [
        "50/4\n",
        "typeof(50/4)\n",
        "\n",
        "14*(4+6)/2\n",
        "typeof(14*(4+6)/2)"
      ],
      "metadata": {
        "id": "qu0xUoLDSJKv",
        "colab": {
          "base_uri": "https://localhost:8080/",
          "height": 86
        },
        "outputId": "f3bfa13f-8336-47ea-c87d-ac347a05ef14"
      },
      "execution_count": 17,
      "outputs": [
        {
          "output_type": "display_data",
          "data": {
            "text/html": [
              "12.5"
            ],
            "text/markdown": "12.5",
            "text/latex": "12.5",
            "text/plain": [
              "[1] 12.5"
            ]
          },
          "metadata": {}
        },
        {
          "output_type": "display_data",
          "data": {
            "text/html": [
              "'double'"
            ],
            "text/markdown": "'double'",
            "text/latex": "'double'",
            "text/plain": [
              "[1] \"double\""
            ]
          },
          "metadata": {}
        },
        {
          "output_type": "display_data",
          "data": {
            "text/html": [
              "70"
            ],
            "text/markdown": "70",
            "text/latex": "70",
            "text/plain": [
              "[1] 70"
            ]
          },
          "metadata": {}
        },
        {
          "output_type": "display_data",
          "data": {
            "text/html": [
              "'double'"
            ],
            "text/markdown": "'double'",
            "text/latex": "'double'",
            "text/plain": [
              "[1] \"double\""
            ]
          },
          "metadata": {}
        }
      ]
    },
    {
      "cell_type": "markdown",
      "source": [
        "<details>\n",
        "<summary>▶️ Click to show the solution</summary>\n",
        "\n",
        "```r\n",
        "50/4\n",
        "typeof(50/4)\n",
        "\n",
        "14*(4+6)/2\n",
        "typeof(14*(4+6)/2)\n",
        "```\n",
        "\n",
        "</details>"
      ],
      "metadata": {
        "id": "iJwIwgLySJzt"
      }
    },
    {
      "cell_type": "markdown",
      "source": [
        "### **Integer Operations**"
      ],
      "metadata": {
        "id": "V1kmaAhNRivE"
      }
    },
    {
      "cell_type": "markdown",
      "source": [
        "All double operators apply to integers as well, with some caveats."
      ],
      "metadata": {
        "id": "vtBO05wxSXbw"
      }
    },
    {
      "cell_type": "markdown",
      "source": [
        "#### **Integer Addition/Subtraction/Multiplication**\n",
        "\n",
        "The output type stays `\"integer\"` as long as both operands are integers, unlike double operations.\n",
        "\n",
        "\n"
      ],
      "metadata": {
        "id": "pHBZX_2kLqNI"
      }
    },
    {
      "cell_type": "code",
      "source": [
        "1L+1L\n",
        "typeof(1L+1L)\n",
        "typeof(1+1)"
      ],
      "metadata": {
        "id": "AlxYlTOkLNMw",
        "colab": {
          "base_uri": "https://localhost:8080/",
          "height": 69
        },
        "outputId": "5b482827-d38e-468d-c394-d668967a0dd1"
      },
      "execution_count": 18,
      "outputs": [
        {
          "output_type": "display_data",
          "data": {
            "text/html": [
              "2"
            ],
            "text/markdown": "2",
            "text/latex": "2",
            "text/plain": [
              "[1] 2"
            ]
          },
          "metadata": {}
        },
        {
          "output_type": "display_data",
          "data": {
            "text/html": [
              "'integer'"
            ],
            "text/markdown": "'integer'",
            "text/latex": "'integer'",
            "text/plain": [
              "[1] \"integer\""
            ]
          },
          "metadata": {}
        },
        {
          "output_type": "display_data",
          "data": {
            "text/html": [
              "'double'"
            ],
            "text/markdown": "'double'",
            "text/latex": "'double'",
            "text/plain": [
              "[1] \"double\""
            ]
          },
          "metadata": {}
        }
      ]
    },
    {
      "cell_type": "markdown",
      "source": [
        "#### **Integer division**\n",
        "\n",
        "Unlike C/C++, R does not perform 'int' division, so the result is not 1L but `1.666...` as we desire."
      ],
      "metadata": {
        "id": "gRUbm9aRLYYg"
      }
    },
    {
      "cell_type": "code",
      "source": [
        "5L/3L\n",
        "typeof(5L/3L)\n",
        "\n",
        "5/3\n",
        "typeof(5/3)"
      ],
      "metadata": {
        "id": "bwN2rwYXLWtP",
        "colab": {
          "base_uri": "https://localhost:8080/",
          "height": 86
        },
        "outputId": "9b37225c-9578-435c-beb8-f690ac056a43"
      },
      "execution_count": 19,
      "outputs": [
        {
          "output_type": "display_data",
          "data": {
            "text/html": [
              "1.66666666666667"
            ],
            "text/markdown": "1.66666666666667",
            "text/latex": "1.66666666666667",
            "text/plain": [
              "[1] 1.666667"
            ]
          },
          "metadata": {}
        },
        {
          "output_type": "display_data",
          "data": {
            "text/html": [
              "'double'"
            ],
            "text/markdown": "'double'",
            "text/latex": "'double'",
            "text/plain": [
              "[1] \"double\""
            ]
          },
          "metadata": {}
        },
        {
          "output_type": "display_data",
          "data": {
            "text/html": [
              "1.66666666666667"
            ],
            "text/markdown": "1.66666666666667",
            "text/latex": "1.66666666666667",
            "text/plain": [
              "[1] 1.666667"
            ]
          },
          "metadata": {}
        },
        {
          "output_type": "display_data",
          "data": {
            "text/html": [
              "'double'"
            ],
            "text/markdown": "'double'",
            "text/latex": "'double'",
            "text/plain": [
              "[1] \"double\""
            ]
          },
          "metadata": {}
        }
      ]
    },
    {
      "cell_type": "markdown",
      "source": [
        "#### **Exercise**\n",
        "\n"
      ],
      "metadata": {
        "id": "vGMnvqmbRz08"
      }
    },
    {
      "cell_type": "markdown",
      "source": [
        "What is the output of integer 5 raised to the power of integer 3? What is the data type of the result?"
      ],
      "metadata": {
        "id": "b3lqT7XNSkA7"
      }
    },
    {
      "cell_type": "code",
      "source": [
        "5L^3L\n",
        "typeof(5L^3L)"
      ],
      "metadata": {
        "id": "-3_Us_bOR4G4",
        "colab": {
          "base_uri": "https://localhost:8080/",
          "height": 52
        },
        "outputId": "28875ded-680d-46f1-e1c4-120c98830328"
      },
      "execution_count": 20,
      "outputs": [
        {
          "output_type": "display_data",
          "data": {
            "text/html": [
              "125"
            ],
            "text/markdown": "125",
            "text/latex": "125",
            "text/plain": [
              "[1] 125"
            ]
          },
          "metadata": {}
        },
        {
          "output_type": "display_data",
          "data": {
            "text/html": [
              "'double'"
            ],
            "text/markdown": "'double'",
            "text/latex": "'double'",
            "text/plain": [
              "[1] \"double\""
            ]
          },
          "metadata": {}
        }
      ]
    },
    {
      "cell_type": "markdown",
      "source": [
        "<details>\n",
        "<summary>▶️ Click to show the solution</summary>\n",
        "\n",
        "```r\n",
        "5L^3L\n",
        "typeof(5L^3L)\n",
        "```\n",
        "\n",
        "</details>"
      ],
      "metadata": {
        "id": "gTOA1L4d-RKT"
      }
    },
    {
      "cell_type": "markdown",
      "source": [
        "### **Logical Operators**"
      ],
      "metadata": {
        "id": "QcjkXkELTcMZ"
      }
    },
    {
      "cell_type": "markdown",
      "source": [
        "Logical operators allow you to combine or modify logical values (`TRUE`/`FALSE`):\n",
        "\n",
        "- `&` : Element-wise AND  \n",
        "- `|` : Element-wise OR  \n",
        "- `!` : NOT (negation)  \n",
        "- `&&` : Short-circuit AND (evaluates only the first element)  \n",
        "- `||` : Short-circuit OR (evaluates only the first element)\n",
        "\n",
        "The difference between `&` and `&&` (and similarly `|` vs `||`) is subtle and mainly relevant when working with vectors.  \n"
      ],
      "metadata": {
        "id": "Sr_yKpk6VLYy"
      }
    },
    {
      "cell_type": "code",
      "source": [
        "T & F\n",
        "!(T&F)"
      ],
      "metadata": {
        "id": "5LUsSF9dVjhj",
        "colab": {
          "base_uri": "https://localhost:8080/",
          "height": 52
        },
        "outputId": "659228a1-5e47-42ce-94bb-9a616432a63e"
      },
      "execution_count": 21,
      "outputs": [
        {
          "output_type": "display_data",
          "data": {
            "text/html": [
              "FALSE"
            ],
            "text/markdown": "FALSE",
            "text/latex": "FALSE",
            "text/plain": [
              "[1] FALSE"
            ]
          },
          "metadata": {}
        },
        {
          "output_type": "display_data",
          "data": {
            "text/html": [
              "TRUE"
            ],
            "text/markdown": "TRUE",
            "text/latex": "TRUE",
            "text/plain": [
              "[1] TRUE"
            ]
          },
          "metadata": {}
        }
      ]
    },
    {
      "cell_type": "markdown",
      "source": [
        "#### **Exercises**\n",
        "\n",
        "Combine `3^2 < 2^3` and `log(3) > 1.5` via the logical `AND` operator. What is the result? Verify the result explicitly in R."
      ],
      "metadata": {
        "id": "ySHVzDaWVptI"
      }
    },
    {
      "cell_type": "code",
      "source": [
        "(3^2 < 2^3) & (log(3) > 1.5)"
      ],
      "metadata": {
        "id": "cCrr71rHWH7A",
        "colab": {
          "base_uri": "https://localhost:8080/",
          "height": 34
        },
        "outputId": "d1a7aa76-c0bb-4451-8cee-6bfcd13a0608"
      },
      "execution_count": 24,
      "outputs": [
        {
          "output_type": "display_data",
          "data": {
            "text/html": [
              "FALSE"
            ],
            "text/markdown": "FALSE",
            "text/latex": "FALSE",
            "text/plain": [
              "[1] FALSE"
            ]
          },
          "metadata": {}
        }
      ]
    },
    {
      "cell_type": "markdown",
      "source": [
        "<details>\n",
        "<summary>▶️ Click to show the solution</summary>\n",
        "\n",
        "```r\n",
        "(3^2 < 2^3) & (log(3) > 1.5)\n",
        "```\n",
        "\n",
        "</details>"
      ],
      "metadata": {
        "id": "H2JC9qA5WIav"
      }
    },
    {
      "cell_type": "markdown",
      "source": [
        "Verify this  `3 < 5 < 7`"
      ],
      "metadata": {
        "id": "D7L5AEMGgVHu"
      }
    },
    {
      "cell_type": "markdown",
      "source": [
        "Note that `3 < 5 < 7`, for example is **not** a valid expression in R. You must verify each expression separa"
      ],
      "metadata": {
        "id": "o6602WeGf9rg"
      }
    },
    {
      "cell_type": "markdown",
      "source": [
        "## **Assignment**"
      ],
      "metadata": {
        "id": "ZS1N1ngCPsub"
      }
    },
    {
      "cell_type": "markdown",
      "source": [
        "Assignment in R can be done using the `<-` or `=` operators (e.g., `x <- 10`). The expression on the right side is evaluated, and its value is stored in the variable on the left."
      ],
      "metadata": {
        "id": "yKauMFuUPwVJ"
      }
    },
    {
      "cell_type": "code",
      "source": [
        "x = 5^2\n",
        "y = 2^5\n",
        "x>y\n",
        "\n",
        "#\n",
        "x2 <- 5^2\n",
        "x == x2 #Equal or not?"
      ],
      "metadata": {
        "id": "JKcpKXqwPyx8",
        "colab": {
          "base_uri": "https://localhost:8080/",
          "height": 52
        },
        "outputId": "d851455d-cf42-4de3-daad-53e5cfce72d5"
      },
      "execution_count": 25,
      "outputs": [
        {
          "output_type": "display_data",
          "data": {
            "text/html": [
              "FALSE"
            ],
            "text/markdown": "FALSE",
            "text/latex": "FALSE",
            "text/plain": [
              "[1] FALSE"
            ]
          },
          "metadata": {}
        },
        {
          "output_type": "display_data",
          "data": {
            "text/html": [
              "TRUE"
            ],
            "text/markdown": "TRUE",
            "text/latex": "TRUE",
            "text/plain": [
              "[1] TRUE"
            ]
          },
          "metadata": {}
        }
      ]
    },
    {
      "cell_type": "markdown",
      "source": [
        "A cool feature in R is the right-arrow assignment operator `->`, which assigns values from left to right. It can make your code more readable or convenient in certain cases, especially when you want to write code in a more natural flow."
      ],
      "metadata": {
        "id": "5Bpf6e_CxV4b"
      }
    },
    {
      "cell_type": "code",
      "source": [
        "5 -> x\n",
        "print(x)"
      ],
      "metadata": {
        "id": "uum6RqctxeK7",
        "colab": {
          "base_uri": "https://localhost:8080/"
        },
        "outputId": "94d496ba-9684-4979-bca6-3fb5cd80212c"
      },
      "execution_count": 28,
      "outputs": [
        {
          "output_type": "stream",
          "name": "stdout",
          "text": [
            "[1] 5\n"
          ]
        }
      ]
    },
    {
      "cell_type": "markdown",
      "source": [
        "Some variables in R, like `pi`, come pre-assigned with built-in constant values that we can use directly in calculations."
      ],
      "metadata": {
        "id": "H_P4OMxoP0mV"
      }
    },
    {
      "cell_type": "code",
      "source": [
        "pi"
      ],
      "metadata": {
        "id": "c8ZCQT4JP5Go",
        "colab": {
          "base_uri": "https://localhost:8080/",
          "height": 34
        },
        "outputId": "2e019245-92d6-41ab-d49d-77506388189d"
      },
      "execution_count": 29,
      "outputs": [
        {
          "output_type": "display_data",
          "data": {
            "text/html": [
              "3.14159265358979"
            ],
            "text/markdown": "3.14159265358979",
            "text/latex": "3.14159265358979",
            "text/plain": [
              "[1] 3.141593"
            ]
          },
          "metadata": {}
        }
      ]
    },
    {
      "cell_type": "markdown",
      "source": [
        "In R, reserved words like `if`, `for`, and `TRUE`/`T` cannot be used as variable names because they have special meanings in the language."
      ],
      "metadata": {
        "id": "K0wTuha8P__h"
      }
    },
    {
      "cell_type": "markdown",
      "source": [
        "#### **Exercise**\n",
        "\n",
        "Create a variable named `radius` and assign it the value `3`. Then, create a variable named `area` and assign it the area of a circle using that `radius`. Print the result."
      ],
      "metadata": {
        "id": "_7RtiqsbQMrR"
      }
    },
    {
      "cell_type": "code",
      "source": [
        "radius = 3\n",
        "area = pi * radius^2\n",
        "print(area)"
      ],
      "metadata": {
        "id": "UhAHyJgkQ5dK",
        "colab": {
          "base_uri": "https://localhost:8080/"
        },
        "outputId": "b64b812e-d15a-46e2-da4f-bdff5dbf19df"
      },
      "execution_count": 37,
      "outputs": [
        {
          "output_type": "stream",
          "name": "stdout",
          "text": [
            "[1] 28.27433\n"
          ]
        }
      ]
    },
    {
      "cell_type": "markdown",
      "source": [
        "<details>\n",
        "<summary>▶️ Click to show the solution</summary>\n",
        "\n",
        "```r\n",
        "radius = 3\n",
        "area = pi * radius^2\n",
        "print(area)\n",
        "```\n",
        "\n",
        "</details>"
      ],
      "metadata": {
        "id": "mWzuMsw9Q8Ga"
      }
    },
    {
      "cell_type": "markdown",
      "source": [
        "## **Function**\n",
        "\n",
        "A function in R is a set of instructions that performs a specific task and may return a value. You call a function by its name followed by parentheses, optionally passing arguments inside (e.g., `a_function(arg_1, arg_2, ...)`).\n"
      ],
      "metadata": {
        "id": "UJjHCmCnS583"
      }
    },
    {
      "cell_type": "markdown",
      "source": [
        "In R, you define a function using the `function()` keyword. For instance, here is a function called `computeArea` that computes the `area` of a circle given its radius:"
      ],
      "metadata": {
        "id": "JUjYwtlxULxH"
      }
    },
    {
      "cell_type": "code",
      "source": [
        "computeArea = function(radius){\n",
        "  area = pi*radius^2\n",
        "  return(area)\n",
        "}\n",
        "computeArea(3)"
      ],
      "metadata": {
        "id": "qWn5KL40U7SM",
        "colab": {
          "base_uri": "https://localhost:8080/",
          "height": 34
        },
        "outputId": "0b7f0eed-3fc9-4f18-a8bb-d9d228bdc0c1"
      },
      "execution_count": 38,
      "outputs": [
        {
          "output_type": "display_data",
          "data": {
            "text/html": [
              "28.2743338823081"
            ],
            "text/markdown": "28.2743338823081",
            "text/latex": "28.2743338823081",
            "text/plain": [
              "[1] 28.27433"
            ]
          },
          "metadata": {}
        }
      ]
    },
    {
      "cell_type": "markdown",
      "source": [
        "Note that in R, you don’t always need to use the `return()` statement because it automatically returns the last evaluated expression. However, it is generally safer to use an explicit `return()` statement."
      ],
      "metadata": {
        "id": "7RkUGpArVUnX"
      }
    },
    {
      "cell_type": "code",
      "source": [
        "computeArea = function(radius){\n",
        "  area = pi*radius^2\n",
        "  return(area)\n",
        "}\n",
        "computeArea(3)"
      ],
      "metadata": {
        "id": "plx33UM1UI25",
        "colab": {
          "base_uri": "https://localhost:8080/",
          "height": 34
        },
        "outputId": "ce9fea81-48db-421b-eb51-2828efa5e3e4"
      },
      "execution_count": 44,
      "outputs": [
        {
          "output_type": "display_data",
          "data": {
            "text/html": [
              "28.2743338823081"
            ],
            "text/markdown": "28.2743338823081",
            "text/latex": "28.2743338823081",
            "text/plain": [
              "[1] 28.27433"
            ]
          },
          "metadata": {}
        }
      ]
    },
    {
      "cell_type": "markdown",
      "source": [
        "#### **Exercise**\n",
        "\n",
        "Create a function called `computeCirc` that takes a `radius` and output the circumference of a circle given the `radius` value."
      ],
      "metadata": {
        "id": "SbT9iwrHV_a8"
      }
    },
    {
      "cell_type": "code",
      "source": [
        "computeCirc = function(radius){\n",
        "  circumference = 2*pi*radius\n",
        "  return(circumference)\n",
        "}\n",
        "computeCirc(3)"
      ],
      "metadata": {
        "id": "52Qfr0sxWNVU",
        "colab": {
          "base_uri": "https://localhost:8080/",
          "height": 34
        },
        "outputId": "895c316c-6b78-4d10-a012-f6702fbea0f4"
      },
      "execution_count": 46,
      "outputs": [
        {
          "output_type": "display_data",
          "data": {
            "text/html": [
              "18.8495559215388"
            ],
            "text/markdown": "18.8495559215388",
            "text/latex": "18.8495559215388",
            "text/plain": [
              "[1] 18.84956"
            ]
          },
          "metadata": {}
        }
      ]
    },
    {
      "cell_type": "markdown",
      "source": [
        "<details>\n",
        "<summary>▶️ Click to show the solution</summary>\n",
        "\n",
        "```r\n",
        "computeCirc = function(radius){\n",
        "  circ = 2*pi*radius\n",
        "  return(circ)\n",
        "}\n",
        "```\n",
        "\n",
        "</details>"
      ],
      "metadata": {
        "id": "k3-zMqePWNxK"
      }
    },
    {
      "cell_type": "markdown",
      "source": [
        "## **More Complex Data Types**"
      ],
      "metadata": {
        "id": "3fqb5Jx3NJVh"
      }
    },
    {
      "cell_type": "markdown",
      "source": [
        "### **Vector**"
      ],
      "metadata": {
        "id": "0rCOvk4YNKvL"
      }
    },
    {
      "cell_type": "markdown",
      "source": [
        "A vector is a one-dimensional array that holds elements of **the same type** (e.g., `numeric`, `character`, `logical`). It is one of the most basic data types in R.\n"
      ],
      "metadata": {
        "id": "nO7w3dO7NmAP"
      }
    },
    {
      "cell_type": "markdown",
      "source": [
        "#### **Creating a Vector**\n",
        "\n",
        "Vectors are typically created using the `c()` function. For example, `c(1, 2, 3)` creates a numeric vector."
      ],
      "metadata": {
        "id": "02JLU_0dZvbo"
      }
    },
    {
      "cell_type": "code",
      "source": [
        "x = c(1,2,3)\n",
        "typeof(x)\n",
        "is.vector(x)"
      ],
      "metadata": {
        "id": "QU080dmONwvt",
        "colab": {
          "base_uri": "https://localhost:8080/",
          "height": 52
        },
        "outputId": "73fd234f-7d14-4bfc-da4c-ef0df8874bfb"
      },
      "execution_count": 47,
      "outputs": [
        {
          "output_type": "display_data",
          "data": {
            "text/html": [
              "'double'"
            ],
            "text/markdown": "'double'",
            "text/latex": "'double'",
            "text/plain": [
              "[1] \"double\""
            ]
          },
          "metadata": {}
        },
        {
          "output_type": "display_data",
          "data": {
            "text/html": [
              "TRUE"
            ],
            "text/markdown": "TRUE",
            "text/latex": "TRUE",
            "text/plain": [
              "[1] TRUE"
            ]
          },
          "metadata": {}
        }
      ]
    },
    {
      "cell_type": "markdown",
      "source": [
        "The expression `c(\"a\", \"b\", \"c\")` creates a character vector."
      ],
      "metadata": {
        "id": "qfam6sABRbKs"
      }
    },
    {
      "cell_type": "code",
      "source": [
        "y = c(\"a\", \"b\", \"c\")\n",
        "typeof(y)\n",
        "is.vector(y)"
      ],
      "metadata": {
        "id": "gYL2sClTRdET",
        "colab": {
          "base_uri": "https://localhost:8080/",
          "height": 52
        },
        "outputId": "78feef9b-5046-4639-f6f9-de3ebdda5e8c"
      },
      "execution_count": 48,
      "outputs": [
        {
          "output_type": "display_data",
          "data": {
            "text/html": [
              "'character'"
            ],
            "text/markdown": "'character'",
            "text/latex": "'character'",
            "text/plain": [
              "[1] \"character\""
            ]
          },
          "metadata": {}
        },
        {
          "output_type": "display_data",
          "data": {
            "text/html": [
              "TRUE"
            ],
            "text/markdown": "TRUE",
            "text/latex": "TRUE",
            "text/plain": [
              "[1] TRUE"
            ]
          },
          "metadata": {}
        }
      ]
    },
    {
      "cell_type": "markdown",
      "source": [
        "What about `c(\"a\", 1, 2)`?\n",
        "\n",
        "This creates a character vector. When elements of different types are combined, R automatically converts them to a common type that can hold all values. `1` can be a character, but `a` is not a number."
      ],
      "metadata": {
        "id": "x_831b9DRmvm"
      }
    },
    {
      "cell_type": "code",
      "source": [
        "z = c(\"a\", 1, 2)\n",
        "print(z)\n",
        "typeof(z)"
      ],
      "metadata": {
        "id": "kA-GW8T-Rlsq",
        "colab": {
          "base_uri": "https://localhost:8080/",
          "height": 52
        },
        "outputId": "b1f3e30c-7d62-4c00-85f7-a486809bdc64"
      },
      "execution_count": 49,
      "outputs": [
        {
          "output_type": "stream",
          "name": "stdout",
          "text": [
            "[1] \"a\" \"1\" \"2\"\n"
          ]
        },
        {
          "output_type": "display_data",
          "data": {
            "text/html": [
              "'character'"
            ],
            "text/markdown": "'character'",
            "text/latex": "'character'",
            "text/plain": [
              "[1] \"character\""
            ]
          },
          "metadata": {}
        }
      ]
    },
    {
      "cell_type": "markdown",
      "source": [
        "The `c()` function can also be used to combine vectors."
      ],
      "metadata": {
        "id": "VEe9X2DCY9ex"
      }
    },
    {
      "cell_type": "code",
      "source": [
        "a = c(1,2,3)\n",
        "b = c(4,5,6)\n",
        "c(a,b)"
      ],
      "metadata": {
        "id": "qfqPdQw4ZB19",
        "colab": {
          "base_uri": "https://localhost:8080/",
          "height": 34
        },
        "outputId": "8cc0075f-5dd2-47ab-df4b-29344be108f9"
      },
      "execution_count": 50,
      "outputs": [
        {
          "output_type": "display_data",
          "data": {
            "text/html": [
              "<style>\n",
              ".list-inline {list-style: none; margin:0; padding: 0}\n",
              ".list-inline>li {display: inline-block}\n",
              ".list-inline>li:not(:last-child)::after {content: \"\\00b7\"; padding: 0 .5ex}\n",
              "</style>\n",
              "<ol class=list-inline><li>1</li><li>2</li><li>3</li><li>4</li><li>5</li><li>6</li></ol>\n"
            ],
            "text/markdown": "1. 1\n2. 2\n3. 3\n4. 4\n5. 5\n6. 6\n\n\n",
            "text/latex": "\\begin{enumerate*}\n\\item 1\n\\item 2\n\\item 3\n\\item 4\n\\item 5\n\\item 6\n\\end{enumerate*}\n",
            "text/plain": [
              "[1] 1 2 3 4 5 6"
            ]
          },
          "metadata": {}
        }
      ]
    },
    {
      "cell_type": "markdown",
      "source": [
        "#### **Basic Vector Operations**\n",
        "\n",
        "**Indexing a Vector**\n",
        "\n",
        "Indexing a vector in R is done using square brackets, e.g., `x[n]` returns the `n-th` element of `x`. We can extract multiple elements by passing a vector of indices, such as `x[c(1, 3, 5)]` to get the `1-st`, `3-rd`, and `5-th` elements.\n",
        "\n",
        "Here, `1`, `3`, `5` are doubles. However, R implicitly converts these into integers.\n"
      ],
      "metadata": {
        "id": "ws91pZQva4MF"
      }
    },
    {
      "cell_type": "code",
      "source": [
        "x = c(1,4,3,6,3,24,7,2,3,4)\n",
        "print(x)\n",
        "print(x[c(1,3,5)])"
      ],
      "metadata": {
        "id": "m0tFu5r3bplw",
        "colab": {
          "base_uri": "https://localhost:8080/"
        },
        "outputId": "f791e221-0a54-4a81-d91f-939c2f97f47b"
      },
      "execution_count": 51,
      "outputs": [
        {
          "output_type": "stream",
          "name": "stdout",
          "text": [
            " [1]  1  4  3  6  3 24  7  2  3  4\n",
            "[1] 1 3 3\n"
          ]
        }
      ]
    },
    {
      "cell_type": "markdown",
      "source": [
        "**Arithmetic and Logical Operations**\n",
        "\n",
        "In R, vector addition is performed element-wise. If you add two vectors of different lengths, the shorter vector is repeated to match the length of the longer vector before the addition. Similar for subtraction/addition/multiplication/comparision operations."
      ],
      "metadata": {
        "id": "Cwfwyltbbh2c"
      }
    },
    {
      "cell_type": "code",
      "source": [
        "x = 1:5\n",
        "y = seq(1,10,2)\n",
        "x + y\n",
        "\n",
        "#\n",
        "a = 1:6\n",
        "b = c(1,2)\n",
        "a+b\n",
        "\n",
        "#\n",
        "z = c(1,4,3,6,3,24,7)\n",
        "z > 5\n",
        "\n",
        "#\n",
        "n = seq(1,9,2) #1,3,5,7,9\n",
        "n + 1"
      ],
      "metadata": {
        "id": "UojkVnn0a_tk",
        "colab": {
          "base_uri": "https://localhost:8080/",
          "height": 86
        },
        "outputId": "3cde739a-f9aa-498d-ac09-6f1bbf889b6a"
      },
      "execution_count": 52,
      "outputs": [
        {
          "output_type": "display_data",
          "data": {
            "text/html": [
              "<style>\n",
              ".list-inline {list-style: none; margin:0; padding: 0}\n",
              ".list-inline>li {display: inline-block}\n",
              ".list-inline>li:not(:last-child)::after {content: \"\\00b7\"; padding: 0 .5ex}\n",
              "</style>\n",
              "<ol class=list-inline><li>2</li><li>5</li><li>8</li><li>11</li><li>14</li></ol>\n"
            ],
            "text/markdown": "1. 2\n2. 5\n3. 8\n4. 11\n5. 14\n\n\n",
            "text/latex": "\\begin{enumerate*}\n\\item 2\n\\item 5\n\\item 8\n\\item 11\n\\item 14\n\\end{enumerate*}\n",
            "text/plain": [
              "[1]  2  5  8 11 14"
            ]
          },
          "metadata": {}
        },
        {
          "output_type": "display_data",
          "data": {
            "text/html": [
              "<style>\n",
              ".list-inline {list-style: none; margin:0; padding: 0}\n",
              ".list-inline>li {display: inline-block}\n",
              ".list-inline>li:not(:last-child)::after {content: \"\\00b7\"; padding: 0 .5ex}\n",
              "</style>\n",
              "<ol class=list-inline><li>2</li><li>4</li><li>4</li><li>6</li><li>6</li><li>8</li></ol>\n"
            ],
            "text/markdown": "1. 2\n2. 4\n3. 4\n4. 6\n5. 6\n6. 8\n\n\n",
            "text/latex": "\\begin{enumerate*}\n\\item 2\n\\item 4\n\\item 4\n\\item 6\n\\item 6\n\\item 8\n\\end{enumerate*}\n",
            "text/plain": [
              "[1] 2 4 4 6 6 8"
            ]
          },
          "metadata": {}
        },
        {
          "output_type": "display_data",
          "data": {
            "text/html": [
              "<style>\n",
              ".list-inline {list-style: none; margin:0; padding: 0}\n",
              ".list-inline>li {display: inline-block}\n",
              ".list-inline>li:not(:last-child)::after {content: \"\\00b7\"; padding: 0 .5ex}\n",
              "</style>\n",
              "<ol class=list-inline><li>FALSE</li><li>FALSE</li><li>FALSE</li><li>TRUE</li><li>FALSE</li><li>TRUE</li><li>TRUE</li></ol>\n"
            ],
            "text/markdown": "1. FALSE\n2. FALSE\n3. FALSE\n4. TRUE\n5. FALSE\n6. TRUE\n7. TRUE\n\n\n",
            "text/latex": "\\begin{enumerate*}\n\\item FALSE\n\\item FALSE\n\\item FALSE\n\\item TRUE\n\\item FALSE\n\\item TRUE\n\\item TRUE\n\\end{enumerate*}\n",
            "text/plain": [
              "[1] FALSE FALSE FALSE  TRUE FALSE  TRUE  TRUE"
            ]
          },
          "metadata": {}
        },
        {
          "output_type": "display_data",
          "data": {
            "text/html": [
              "<style>\n",
              ".list-inline {list-style: none; margin:0; padding: 0}\n",
              ".list-inline>li {display: inline-block}\n",
              ".list-inline>li:not(:last-child)::after {content: \"\\00b7\"; padding: 0 .5ex}\n",
              "</style>\n",
              "<ol class=list-inline><li>2</li><li>4</li><li>6</li><li>8</li><li>10</li></ol>\n"
            ],
            "text/markdown": "1. 2\n2. 4\n3. 6\n4. 8\n5. 10\n\n\n",
            "text/latex": "\\begin{enumerate*}\n\\item 2\n\\item 4\n\\item 6\n\\item 8\n\\item 10\n\\end{enumerate*}\n",
            "text/plain": [
              "[1]  2  4  6  8 10"
            ]
          },
          "metadata": {}
        }
      ]
    },
    {
      "cell_type": "markdown",
      "source": [
        "We can also index a vector using a logical operation. For example, if we want to know which values in a vector `x = c(1,4,3,6,3,24,7,2,3,4)` are larger than 3, we can do the following:"
      ],
      "metadata": {
        "id": "-AHbIT-zcYE9"
      }
    },
    {
      "cell_type": "code",
      "source": [
        "x = c(1,4,3,6,3,24,7,2,3,4)\n",
        "whichIdx = x>3\n",
        "print(whichIdx)\n",
        "x[whichIdx]"
      ],
      "metadata": {
        "id": "c0Pc3Ab_cZVt",
        "colab": {
          "base_uri": "https://localhost:8080/",
          "height": 52
        },
        "outputId": "875868a9-50ca-4ee2-d352-d12c52546522"
      },
      "execution_count": 53,
      "outputs": [
        {
          "output_type": "stream",
          "name": "stdout",
          "text": [
            " [1] FALSE  TRUE FALSE  TRUE FALSE  TRUE  TRUE FALSE FALSE  TRUE\n"
          ]
        },
        {
          "output_type": "display_data",
          "data": {
            "text/html": [
              "<style>\n",
              ".list-inline {list-style: none; margin:0; padding: 0}\n",
              ".list-inline>li {display: inline-block}\n",
              ".list-inline>li:not(:last-child)::after {content: \"\\00b7\"; padding: 0 .5ex}\n",
              "</style>\n",
              "<ol class=list-inline><li>4</li><li>6</li><li>24</li><li>7</li><li>4</li></ol>\n"
            ],
            "text/markdown": "1. 4\n2. 6\n3. 24\n4. 7\n5. 4\n\n\n",
            "text/latex": "\\begin{enumerate*}\n\\item 4\n\\item 6\n\\item 24\n\\item 7\n\\item 4\n\\end{enumerate*}\n",
            "text/plain": [
              "[1]  4  6 24  7  4"
            ]
          },
          "metadata": {}
        }
      ]
    },
    {
      "cell_type": "markdown",
      "source": [
        "**Modifying a Vector**\n",
        "\n",
        "We can modify elements in a vector via the assignment operator."
      ],
      "metadata": {
        "id": "aBTCarOMbBZq"
      }
    },
    {
      "cell_type": "code",
      "source": [
        "x = 1:5\n",
        "print(x)\n",
        "x[1] = 5\n",
        "print(x)"
      ],
      "metadata": {
        "id": "BXg3Lgn0bQaC",
        "colab": {
          "base_uri": "https://localhost:8080/"
        },
        "outputId": "73290e53-ced9-4885-8bf1-e0ce9ec7de37"
      },
      "execution_count": 54,
      "outputs": [
        {
          "output_type": "stream",
          "name": "stdout",
          "text": [
            "[1] 1 2 3 4 5\n",
            "[1] 5 2 3 4 5\n"
          ]
        }
      ]
    },
    {
      "cell_type": "markdown",
      "source": [
        "#### **Common Functions for Working with Vectors**"
      ],
      "metadata": {
        "id": "42FxiVXtZzdL"
      }
    },
    {
      "cell_type": "markdown",
      "source": [
        "Some useful functions for working with vectors in R:\n",
        "\n",
        "- `length(x)` — returns the number of elements in vector x.\n",
        "- `sum(x)` — computes the sum of all elements in x.\n",
        "- `mean(x)` — calculates the average value of x.\n",
        "- `max(x)` - finds the maximum value in `x`.\n",
        "- `sort(x)` — returns a sorted version of x.\n",
        "- `unique(x)` — extracts unique elements from x.\n",
        "- `c()` — combines values/vectors into a new vector.\n",
        "- `seq(from, to, by)` — generates equally spaced sequences of numbers.\n",
        "- `rep(x, times)` — repeats elements to create vectors.\n",
        "- `lapply(x, FUN)` — applies a function `FUN` to each element of a vector, returns a list.\n",
        "- `sapply(x, FUN)` — similar to lapply(), but results are simplified (e.g., to a vector or matrix).\n",
        "- `which()` — returns indices of elements matching a condition.\n",
        "- `names(x)` - returns the names of elements.\n",
        "- `:`  — (not a function) creates a sequence of consecutive integers between two numbers."
      ],
      "metadata": {
        "id": "3JGbRFZQSYWF"
      }
    },
    {
      "cell_type": "code",
      "source": [
        "x = seq(from = 1, to = 10, by = 2)\n",
        "print(x)\n",
        "\n",
        "y = 1:10\n",
        "print(y)\n",
        "sum(y)\n",
        "mean(y)"
      ],
      "metadata": {
        "id": "U4PSPOekWjWd",
        "colab": {
          "base_uri": "https://localhost:8080/",
          "height": 87
        },
        "outputId": "c42e104e-9dfc-4f34-cde2-b8dae2973423"
      },
      "execution_count": 55,
      "outputs": [
        {
          "output_type": "stream",
          "name": "stdout",
          "text": [
            "[1] 1 3 5 7 9\n",
            " [1]  1  2  3  4  5  6  7  8  9 10\n"
          ]
        },
        {
          "output_type": "display_data",
          "data": {
            "text/html": [
              "55"
            ],
            "text/markdown": "55",
            "text/latex": "55",
            "text/plain": [
              "[1] 55"
            ]
          },
          "metadata": {}
        },
        {
          "output_type": "display_data",
          "data": {
            "text/html": [
              "5.5"
            ],
            "text/markdown": "5.5",
            "text/latex": "5.5",
            "text/plain": [
              "[1] 5.5"
            ]
          },
          "metadata": {}
        }
      ]
    },
    {
      "cell_type": "markdown",
      "source": [
        "#### **Exercise**\n",
        "\n",
        "Create a new vector containing the odd numbers from 1 to 21, inclusive.\n",
        "- Store this vector in a variable of your choice.\n",
        "- From this vector, extract all elements that are divisible by 3 and store them in another variable.\n",
        "- Compute the sum of the values that are divisible by 3.\n"
      ],
      "metadata": {
        "id": "tUyXGAJ7fm-Z"
      }
    },
    {
      "cell_type": "code",
      "source": [
        "x = seq(1, 21, 2)\n",
        "print(x)\n",
        "\n",
        "xcheck3 = x %% 3 == 0\n",
        "xshow3 = x[xcheck3]\n",
        "print(xshow3)\n",
        "\n",
        "sumxdiv = sum(xshow3)\n",
        "print(sumxdiv)\n",
        "\n",
        "\n",
        "# x = rep(from = 1, to = 21,by = 2),\n",
        "# # Divisible by 3 <=> x %% 3 == 0 (i.e., remainder = 0)\n",
        "# whichIdx = x%%3 == 0\n",
        "# y = x[whichIdx] #Extract a vector via a Boolean vector\n",
        "# print(y)\n",
        "# sum(y)"
      ],
      "metadata": {
        "id": "DHbxF-_nPWrX",
        "colab": {
          "base_uri": "https://localhost:8080/"
        },
        "outputId": "e4b864a5-6eb2-4986-c965-43a0641a6ea5"
      },
      "execution_count": 85,
      "outputs": [
        {
          "output_type": "stream",
          "name": "stdout",
          "text": [
            " [1]  1  3  5  7  9 11 13 15 17 19 21\n",
            "[1]  3  9 15 21\n",
            "[1] 48\n"
          ]
        }
      ]
    },
    {
      "cell_type": "markdown",
      "source": [
        "<details>\n",
        "<summary>▶️ Click to show the solution</summary>\n",
        "\n",
        "```r\n",
        "x = rep(from = 1, to = 21,by = 2),\n",
        "#Divisible by 3 <=> x %% 3 == 0 (i.e., remainder = 0)\n",
        "whichIdx = x%%3 == 0\n",
        "y = x[whichIdx] #Extract a vector via a Boolean vector\n",
        "print(y)\n",
        "sum(y)\n",
        "```\n",
        "\n",
        "</details>"
      ],
      "metadata": {
        "id": "PyGLSrCgPXRS"
      }
    },
    {
      "cell_type": "markdown",
      "source": [
        "### **Matrix**"
      ],
      "metadata": {
        "id": "eSVxtJx3URm1"
      }
    },
    {
      "cell_type": "markdown",
      "source": [
        "After vectors, matrices are the next level of data structure in R. A matrix is a two-dimensional structure where all elements must be of the same type, essentially a vector with dimensions.\n",
        "\n",
        "There is a generalised data structure called an `array`, which encompasses both vectors and matrices matrices to multiple dimensions. This topic will not be covered here."
      ],
      "metadata": {
        "id": "SPzKRLntUV16"
      }
    },
    {
      "cell_type": "markdown",
      "source": [
        "\n",
        "#### **Creating and Indexing a Matrix**\n",
        "We can create one using matrix(), and access elements with '[rowIdx, columnIdx]` (i.e., 2-d indexing). Each row or column of a matrix is a vector."
      ],
      "metadata": {
        "id": "SPJvBPXGV1df"
      }
    },
    {
      "cell_type": "code",
      "source": [
        "A = matrix(data = 1:9,\n",
        "           nrow = 3,\n",
        "           ncol = 3)\n",
        "print(A)\n",
        "print(A[1:2, 3:3])"
      ],
      "metadata": {
        "id": "YuiPbXlIUpmh",
        "colab": {
          "base_uri": "https://localhost:8080/"
        },
        "outputId": "f392a53f-a8b9-4d17-ae30-ef6e6b773560"
      },
      "execution_count": 133,
      "outputs": [
        {
          "output_type": "stream",
          "name": "stdout",
          "text": [
            "     [,1] [,2] [,3]\n",
            "[1,]    1    4    7\n",
            "[2,]    2    5    8\n",
            "[3,]    3    6    9\n",
            "[1] 7 8\n"
          ]
        }
      ]
    },
    {
      "cell_type": "markdown",
      "source": [
        "If only a row index or only a column index is provided when indexing a matrix R will return all columns (or all rows) corresponding to that index."
      ],
      "metadata": {
        "id": "Yi5ei8E-Zoj8"
      }
    },
    {
      "cell_type": "code",
      "source": [
        "A[,2]"
      ],
      "metadata": {
        "id": "E63YaAfZd55d",
        "colab": {
          "base_uri": "https://localhost:8080/",
          "height": 34
        },
        "outputId": "28c04405-3d01-477f-ce75-181b310e6a5b"
      },
      "execution_count": 134,
      "outputs": [
        {
          "output_type": "display_data",
          "data": {
            "text/html": [
              "<style>\n",
              ".list-inline {list-style: none; margin:0; padding: 0}\n",
              ".list-inline>li {display: inline-block}\n",
              ".list-inline>li:not(:last-child)::after {content: \"\\00b7\"; padding: 0 .5ex}\n",
              "</style>\n",
              "<ol class=list-inline><li>4</li><li>5</li><li>6</li></ol>\n"
            ],
            "text/markdown": "1. 4\n2. 5\n3. 6\n\n\n",
            "text/latex": "\\begin{enumerate*}\n\\item 4\n\\item 5\n\\item 6\n\\end{enumerate*}\n",
            "text/plain": [
              "[1] 4 5 6"
            ]
          },
          "metadata": {}
        }
      ]
    },
    {
      "cell_type": "markdown",
      "source": [
        "#### **Modifying a Matrix**\n",
        "\n",
        "We can modify a matrix similarly to a vector. The key difference is that matrices use two-dimensional indexing `[rowIdx, columnIdx]` instead of one-dimensional."
      ],
      "metadata": {
        "id": "lXucgGj5sKKP"
      }
    },
    {
      "cell_type": "code",
      "source": [
        "\n",
        "print(A)\n",
        "\n",
        "# Modify the second row\n",
        "A[2, ] = c(10, 11, 12)\n",
        "print(A)\n",
        "\n",
        "# Modify the first column\n",
        "A[, 1] = c(100, 101, 102)\n",
        "print(A)\n",
        "\n",
        "# Modify a specific element (row 3, column 2)\n",
        "A[3, 2] = 999\n",
        "print(A)"
      ],
      "metadata": {
        "id": "mKr5eE28shyt",
        "colab": {
          "base_uri": "https://localhost:8080/"
        },
        "outputId": "848b53c1-a1c5-4a82-ea91-ff1038e68ac7"
      },
      "execution_count": 135,
      "outputs": [
        {
          "output_type": "stream",
          "name": "stdout",
          "text": [
            "     [,1] [,2] [,3]\n",
            "[1,]    1    4    7\n",
            "[2,]    2    5    8\n",
            "[3,]    3    6    9\n",
            "     [,1] [,2] [,3]\n",
            "[1,]    1    4    7\n",
            "[2,]   10   11   12\n",
            "[3,]    3    6    9\n",
            "     [,1] [,2] [,3]\n",
            "[1,]  100    4    7\n",
            "[2,]  101   11   12\n",
            "[3,]  102    6    9\n",
            "     [,1] [,2] [,3]\n",
            "[1,]  100    4    7\n",
            "[2,]  101   11   12\n",
            "[3,]  102  999    9\n"
          ]
        }
      ]
    },
    {
      "cell_type": "markdown",
      "source": [
        "#### **Column-Major Ordering**"
      ],
      "metadata": {
        "id": "9lnAmNXCWKis"
      }
    },
    {
      "cell_type": "markdown",
      "source": [
        "In R, matrices are stored in **column-major** order, meaning elements are filled column by column, not row by row.\n",
        "\n",
        "To us, a matrix is a 2-dimensional array. But to the computer, a matrix is stored as a 1-dimensional array (a vector), so 1-dimensional indexing can be used to extract elements, which can be useful for high-performance applications. However, two-dimensional indexing remains the standard and safer approach."
      ],
      "metadata": {
        "id": "EhxKF6NvU9Kn"
      }
    },
    {
      "cell_type": "code",
      "source": [
        "A[1:4]"
      ],
      "metadata": {
        "id": "n-3dng_3VaIz",
        "colab": {
          "base_uri": "https://localhost:8080/",
          "height": 34
        },
        "outputId": "f65d6df5-439f-4dcd-e4a0-be5c13f9c889"
      },
      "execution_count": 139,
      "outputs": [
        {
          "output_type": "display_data",
          "data": {
            "text/html": [
              "<style>\n",
              ".list-inline {list-style: none; margin:0; padding: 0}\n",
              ".list-inline>li {display: inline-block}\n",
              ".list-inline>li:not(:last-child)::after {content: \"\\00b7\"; padding: 0 .5ex}\n",
              "</style>\n",
              "<ol class=list-inline><li>100</li><li>101</li><li>102</li><li>4</li></ol>\n"
            ],
            "text/markdown": "1. 100\n2. 101\n3. 102\n4. 4\n\n\n",
            "text/latex": "\\begin{enumerate*}\n\\item 100\n\\item 101\n\\item 102\n\\item 4\n\\end{enumerate*}\n",
            "text/plain": [
              "[1] 100 101 102   4"
            ]
          },
          "metadata": {}
        }
      ]
    },
    {
      "cell_type": "markdown",
      "source": [
        "Arithmetic and logical operations on matrices in R are performed element-wise, just like vectors. However, since matrices are stored in column-major order, this affects how operations are performed."
      ],
      "metadata": {
        "id": "YdwWArwZV-zq"
      }
    },
    {
      "cell_type": "code",
      "source": [
        "print(A)\n",
        "print(A + c(1,2,3))\n",
        "print(A %% c(1,2,3) == 0)"
      ],
      "metadata": {
        "id": "6VAvIuQ0XGo2",
        "colab": {
          "base_uri": "https://localhost:8080/"
        },
        "outputId": "023b43ff-1659-4e2b-d303-0397616ca71e"
      },
      "execution_count": 140,
      "outputs": [
        {
          "output_type": "stream",
          "name": "stdout",
          "text": [
            "     [,1] [,2] [,3]\n",
            "[1,]  100    4    7\n",
            "[2,]  101   11   12\n",
            "[3,]  102  999    9\n",
            "     [,1] [,2] [,3]\n",
            "[1,]  101    5    8\n",
            "[2,]  103   13   14\n",
            "[3,]  105 1002   12\n",
            "      [,1]  [,2] [,3]\n",
            "[1,]  TRUE  TRUE TRUE\n",
            "[2,] FALSE FALSE TRUE\n",
            "[3,]  TRUE  TRUE TRUE\n"
          ]
        }
      ]
    },
    {
      "cell_type": "markdown",
      "source": [
        "#### **Common Functions for Working with Matrices**\n",
        "\n",
        "- `dim(x)` — returns the dimensions (rows and columns) of matrix `x`.  \n",
        "- `nrow(x)` — returns the number of rows.  \n",
        "- `ncol(x)` — returns the number of columns.  \n",
        "- `t(x)` — returns the transpose of matrix `x`.  \n",
        "- `rowSums(x)` — computes the sum of each row.  \n",
        "- `colSums(x)` — computes the sum of each column.  \n",
        "- `rowMeans(x)` — computes the mean of each row.  \n",
        "- `colMeans(x)` — computes the mean of each column.  \n",
        "- `apply(x, MARGIN, FUN)` — applies a function `FUN` over rows (`MARGIN = 1`) or columns (`MARGIN = 2`).  \n",
        "- `matrix(data, nrow, ncol)` — creates a matrix from the given data.  \n",
        "- `cbind()` - combines two matrices by columns.\n",
        "- `rbind()` - combines two matrices by columns.\n",
        "- `dimnames(x)` — gets or sets row and column names.  \n",
        "- `rownames(x)` — returns or sets row names.  \n",
        "- `colnames(x)` — returns or sets column names."
      ],
      "metadata": {
        "id": "Sh0uLu5pXkW5"
      }
    },
    {
      "cell_type": "markdown",
      "source": [
        "#### **Exercise**\n",
        "\n",
        "1. Create a 3x3 matrix `m` filled by columns with the first 9 odd numbers `(1, 3, 5, ..., 17)`.  \n",
        "2. Use `rowSums()` to calculate the sum of each row.  \n",
        "3. Use `colMeans()` to calculate the mean of each column.  \n",
        "4. Use `apply()` to find the maximum value in each row. Recall that each row/column of a matrix is a vector.\n",
        "\n",
        "**Hint:** Use `matrix()`, `rowSums()`, `colMeans()`, `max(), `apply()`, and `seq()` with` by = 2`."
      ],
      "metadata": {
        "id": "ShDeP19xY6Og"
      }
    },
    {
      "cell_type": "code",
      "source": [
        "x = seq(1, 17, 2)\n",
        "\n",
        "A = matrix(x, 3, 3)\n",
        "print(A)\n",
        "\n",
        "rowSums(A)\n",
        "colMeans(A)\n",
        "\n",
        "apply(A, MARGIN = 1, max)"
      ],
      "metadata": {
        "id": "uSgJPUmTZHxc",
        "colab": {
          "base_uri": "https://localhost:8080/",
          "height": 141
        },
        "outputId": "8e8b251f-f9f5-48d5-8c61-8110772624a2"
      },
      "execution_count": 148,
      "outputs": [
        {
          "output_type": "stream",
          "name": "stdout",
          "text": [
            "     [,1] [,2] [,3]\n",
            "[1,]    1    7   13\n",
            "[2,]    3    9   15\n",
            "[3,]    5   11   17\n"
          ]
        },
        {
          "output_type": "display_data",
          "data": {
            "text/html": [
              "<style>\n",
              ".list-inline {list-style: none; margin:0; padding: 0}\n",
              ".list-inline>li {display: inline-block}\n",
              ".list-inline>li:not(:last-child)::after {content: \"\\00b7\"; padding: 0 .5ex}\n",
              "</style>\n",
              "<ol class=list-inline><li>21</li><li>27</li><li>33</li></ol>\n"
            ],
            "text/markdown": "1. 21\n2. 27\n3. 33\n\n\n",
            "text/latex": "\\begin{enumerate*}\n\\item 21\n\\item 27\n\\item 33\n\\end{enumerate*}\n",
            "text/plain": [
              "[1] 21 27 33"
            ]
          },
          "metadata": {}
        },
        {
          "output_type": "display_data",
          "data": {
            "text/html": [
              "<style>\n",
              ".list-inline {list-style: none; margin:0; padding: 0}\n",
              ".list-inline>li {display: inline-block}\n",
              ".list-inline>li:not(:last-child)::after {content: \"\\00b7\"; padding: 0 .5ex}\n",
              "</style>\n",
              "<ol class=list-inline><li>3</li><li>9</li><li>15</li></ol>\n"
            ],
            "text/markdown": "1. 3\n2. 9\n3. 15\n\n\n",
            "text/latex": "\\begin{enumerate*}\n\\item 3\n\\item 9\n\\item 15\n\\end{enumerate*}\n",
            "text/plain": [
              "[1]  3  9 15"
            ]
          },
          "metadata": {}
        },
        {
          "output_type": "display_data",
          "data": {
            "text/html": [
              "<style>\n",
              ".list-inline {list-style: none; margin:0; padding: 0}\n",
              ".list-inline>li {display: inline-block}\n",
              ".list-inline>li:not(:last-child)::after {content: \"\\00b7\"; padding: 0 .5ex}\n",
              "</style>\n",
              "<ol class=list-inline><li>13</li><li>15</li><li>17</li></ol>\n"
            ],
            "text/markdown": "1. 13\n2. 15\n3. 17\n\n\n",
            "text/latex": "\\begin{enumerate*}\n\\item 13\n\\item 15\n\\item 17\n\\end{enumerate*}\n",
            "text/plain": [
              "[1] 13 15 17"
            ]
          },
          "metadata": {}
        }
      ]
    },
    {
      "cell_type": "markdown",
      "source": [
        "<details>\n",
        "<summary>▶️ Click to show the solution</summary>\n",
        "\n",
        "```r\n",
        "m = matrix(seq(1, 17, by = 2), nrow = 3, ncol = 3)\n",
        "print(m)\n",
        "rowSums(m)\n",
        "colMeans(m)\n",
        "apply(m, MARGIN = 1, max)\n",
        "```\n",
        "\n",
        "</details>"
      ],
      "metadata": {
        "id": "Gdea-SS8ZIMx"
      }
    },
    {
      "cell_type": "markdown",
      "source": [
        "### **List**\n",
        "\n",
        "A list in R is a flexible data structure that can store elements of different types and lengths, unlike vectors which require all elements to be the same type. This makes lists particularly useful for grouping together diverse outputs."
      ],
      "metadata": {
        "id": "M8wpbkDIQfBW"
      }
    },
    {
      "cell_type": "markdown",
      "source": [
        "#### **Creating a List**\n",
        "\n",
        "In R, a list can be created via the `list()` function."
      ],
      "metadata": {
        "id": "KV-xCs8dSRxy"
      }
    },
    {
      "cell_type": "code",
      "source": [
        "mxb107Info = list(faculty = \"Faculty of Science\", school = \"School of Mathematical Sciences\", year = 2025, unitCode = \"MXB107\",\n",
        "unitName = \"Probability & Statistics\")\n",
        "print(mxb107Info)"
      ],
      "metadata": {
        "id": "rT-QPzfuRFU5",
        "colab": {
          "base_uri": "https://localhost:8080/"
        },
        "outputId": "270dfea1-932c-4ade-d7eb-de8ec33c1f13"
      },
      "execution_count": 149,
      "outputs": [
        {
          "output_type": "stream",
          "name": "stdout",
          "text": [
            "$faculty\n",
            "[1] \"Faculty of Science\"\n",
            "\n",
            "$school\n",
            "[1] \"School of Mathematical Sciences\"\n",
            "\n",
            "$year\n",
            "[1] 2025\n",
            "\n",
            "$unitCode\n",
            "[1] \"MXB107\"\n",
            "\n",
            "$unitName\n",
            "[1] \"Probability & Statistics\"\n",
            "\n"
          ]
        }
      ]
    },
    {
      "cell_type": "markdown",
      "source": [
        "#### **Indexing a List**\n",
        "\n",
        "We can access its elements using double square brackets `[[ ]]` or the `$` operator if the elements are named. For example:"
      ],
      "metadata": {
        "id": "RxbNV_NYSNg2"
      }
    },
    {
      "cell_type": "code",
      "source": [
        "print(mxb107Info)\n",
        "mxb107Info$faculty\n",
        "mxb107Info$faculty[[1]]"
      ],
      "metadata": {
        "id": "I3oZJJ5QSdry",
        "colab": {
          "base_uri": "https://localhost:8080/",
          "height": 320
        },
        "outputId": "ddf5cc0b-0fe1-487d-e329-3fd7c1772a1e"
      },
      "execution_count": 150,
      "outputs": [
        {
          "output_type": "stream",
          "name": "stdout",
          "text": [
            "$faculty\n",
            "[1] \"Faculty of Science\"\n",
            "\n",
            "$school\n",
            "[1] \"School of Mathematical Sciences\"\n",
            "\n",
            "$year\n",
            "[1] 2025\n",
            "\n",
            "$unitCode\n",
            "[1] \"MXB107\"\n",
            "\n",
            "$unitName\n",
            "[1] \"Probability & Statistics\"\n",
            "\n"
          ]
        },
        {
          "output_type": "display_data",
          "data": {
            "text/html": [
              "'Faculty of Science'"
            ],
            "text/markdown": "'Faculty of Science'",
            "text/latex": "'Faculty of Science'",
            "text/plain": [
              "[1] \"Faculty of Science\""
            ]
          },
          "metadata": {}
        },
        {
          "output_type": "display_data",
          "data": {
            "text/html": [
              "'Faculty of Science'"
            ],
            "text/markdown": "'Faculty of Science'",
            "text/latex": "'Faculty of Science'",
            "text/plain": [
              "[1] \"Faculty of Science\""
            ]
          },
          "metadata": {}
        }
      ]
    },
    {
      "cell_type": "markdown",
      "source": [
        "If you use single square brackets `[ ]` on a list, R returns a sublist containing the selected elements—not the elements themselves."
      ],
      "metadata": {
        "id": "LVvWLlBvSrAJ"
      }
    },
    {
      "cell_type": "code",
      "source": [
        "print(mxb107Info)\n",
        "mxb107Info$faculty\n",
        "typeof(mxb107Info[4])"
      ],
      "metadata": {
        "id": "TbepPBQ5S4Yp",
        "colab": {
          "base_uri": "https://localhost:8080/",
          "height": 320
        },
        "outputId": "06aa73b8-6067-48ad-d4ed-71d1b84eca09"
      },
      "execution_count": 151,
      "outputs": [
        {
          "output_type": "stream",
          "name": "stdout",
          "text": [
            "$faculty\n",
            "[1] \"Faculty of Science\"\n",
            "\n",
            "$school\n",
            "[1] \"School of Mathematical Sciences\"\n",
            "\n",
            "$year\n",
            "[1] 2025\n",
            "\n",
            "$unitCode\n",
            "[1] \"MXB107\"\n",
            "\n",
            "$unitName\n",
            "[1] \"Probability & Statistics\"\n",
            "\n"
          ]
        },
        {
          "output_type": "display_data",
          "data": {
            "text/html": [
              "'Faculty of Science'"
            ],
            "text/markdown": "'Faculty of Science'",
            "text/latex": "'Faculty of Science'",
            "text/plain": [
              "[1] \"Faculty of Science\""
            ]
          },
          "metadata": {}
        },
        {
          "output_type": "display_data",
          "data": {
            "text/html": [
              "'list'"
            ],
            "text/markdown": "'list'",
            "text/latex": "'list'",
            "text/plain": [
              "[1] \"list\""
            ]
          },
          "metadata": {}
        }
      ]
    },
    {
      "cell_type": "markdown",
      "source": [
        "#### **Common Functions for Working with Lists**\n",
        "\n",
        "- `str(x)` — displays the structure of a list — useful for inspection.\n",
        "- `lapply(x, FUN)` — applies a function `FUN` to each element of a list, returns a list.\n",
        "- `sapply(x, FUN)` — similar to lapply(), but results are simplified (e.g., to a vector or matrix).\n",
        "- `unlist(x)` — flattens a list into a vector if possible.\n",
        "- `append(x, value)` — adds elements to a list."
      ],
      "metadata": {
        "id": "7QdBpstESwRX"
      }
    },
    {
      "cell_type": "markdown",
      "source": [
        "#### **Exercise**\n",
        "\n",
        "Create a function named `Circle` that takes a `radius` and outputs the `area` and `circumference` of a circle with that `radius`.\n",
        "\n",
        "**Hint:** Return the results in a list; Use `return()` does not work as once `return()` is evaluated, the function aborts."
      ],
      "metadata": {
        "id": "cAbSzBWdaGBm"
      }
    },
    {
      "cell_type": "code",
      "source": [
        "circle = function(radius){\n",
        "  circumference = 2*pi*radius\n",
        "\n",
        "  area = pi*radius^2\n",
        "\n",
        "  result = list(circumference = circumference, area = area)\n",
        "  return(result)\n",
        "}\n",
        "\n",
        "circle(3)\n"
      ],
      "metadata": {
        "id": "IJsNAfoHajkP",
        "colab": {
          "base_uri": "https://localhost:8080/",
          "height": 114
        },
        "outputId": "5843bd55-d6f0-480b-b4c3-d38f49a2bf0c"
      },
      "execution_count": 161,
      "outputs": [
        {
          "output_type": "display_data",
          "data": {
            "text/html": [
              "<dl>\n",
              "\t<dt>$circumference</dt>\n",
              "\t\t<dd>18.8495559215388</dd>\n",
              "\t<dt>$area</dt>\n",
              "\t\t<dd>28.2743338823081</dd>\n",
              "</dl>\n"
            ],
            "text/markdown": "$circumference\n:   18.8495559215388\n$area\n:   28.2743338823081\n\n\n",
            "text/latex": "\\begin{description}\n\\item[\\$circumference] 18.8495559215388\n\\item[\\$area] 28.2743338823081\n\\end{description}\n",
            "text/plain": [
              "$circumference\n",
              "[1] 18.84956\n",
              "\n",
              "$area\n",
              "[1] 28.27433\n"
            ]
          },
          "metadata": {}
        }
      ]
    },
    {
      "cell_type": "markdown",
      "source": [
        "<details>\n",
        "<summary>▶️ Click to show the solution</summary>\n",
        "\n",
        "```r\n",
        "Circle = function(radius){\n",
        "  areaVal = pi*radius^2\n",
        "  circVal = 2*pi*radius\n",
        "  return(list(area = areaVal, circ = circVal))\n",
        "}\n",
        "```\n",
        "\n",
        "</details>"
      ],
      "metadata": {
        "id": "7X-kj3TDatpj"
      }
    },
    {
      "cell_type": "markdown",
      "source": [
        "\n",
        "### **Data Frame**\n",
        "\n",
        "A data frame is a table-like data structure in R where each column can hold different types (numeric, character, etc), and each row represents an observation. It’s widely used for storing and manipulating datasets. Think of that as an `Excel` table in R, but more efficient."
      ],
      "metadata": {
        "id": "fsONN8Gkb8WD"
      }
    },
    {
      "cell_type": "markdown",
      "source": [
        "### **Create a Data Frame**\n",
        "\n",
        "We can create a data frame using the `data.frame()` function. Each column in a data frame is a vector, and all columns must have the same length."
      ],
      "metadata": {
        "id": "0TwrEf8ocgCZ"
      }
    },
    {
      "cell_type": "code",
      "source": [
        "MXB107_ClassInfo <- data.frame(\n",
        "  Class = c(\n",
        "    \"LEC01 01\", \"LEC01 01\", \"PRC01 01\", \"PRC01 01\", \"PRC01 02\",\n",
        "    \"PRC01 03\", \"PRC01 07\", \"PRC01 08\", \"PRC01 02\", \"PRC01 04\",\n",
        "    \"PRC01 05\", \"PRC01 06\"\n",
        "  ),\n",
        "  Type = c(\n",
        "    \"Lecture (Internal)\", \"Lecture (Online)\", \"Practical (Online)\", \"Practical (Internal)\",\n",
        "    \"Practical (Online)\", \"Practical (Internal)\", \"Practical (Internal)\", \"Practical (Internal)\",\n",
        "    \"Practical (Internal)\", \"Practical (Internal)\", \"Practical (Internal)\", \"Practical (Internal)\"\n",
        "  ),\n",
        "  Day = c(\n",
        "    \"Wed\", \"Wed\", \"Wed\", \"Thu\", \"Thu\", \"Thu\", \"Thu\", \"Thu\", \"Fri\", \"Fri\", \"Fri\", \"Fri\"\n",
        "  ),\n",
        "  Location = c(\n",
        "    \"GP B117\", \"Online\", \"Online\", \"GP D413\", \"Online\", \"GP G216\", \"GP S520\", \"GP S517\",\n",
        "    \"GP G216\", \"GP G216\", \"GP S502\", \"GP S519\"\n",
        "  ),\n",
        "  Limit = c(\n",
        "    240, 1000, 30, 35, 30, 35, 25, 30, 35, 35, 35, 35\n",
        "  ),\n",
        "  Teaching_Staff = c(\n",
        "    \"Chris Drovandi\", \"Chris Drovandi\", \"Narayan Srinivasan\", \"Narayan Srinivasan\",\n",
        "    \"Oliver Vu\", \"Minh Long Nguyen\", \"Ryan Kelly\", \"Nicholas Gecks-Preston\",\n",
        "    \"Oliver Vu\", \"Arwen Nugteren\", \"Arwen Nugteren\", \"Minh Long Nguyen\"\n",
        "  ),\n",
        "  From = c(\n",
        "    \"11\", \"11\", \"16\", \"16\", \"16\", \"09\", \"14\", \"09\",\n",
        "    \"9\", \"11\", \"15\", \"15\"\n",
        "  ),\n",
        "  To = c(\n",
        "    \"13\", \"13\", \"18\", \"18\", \"18\", \"11\", \"16\", \"11\",\n",
        "    \"11\", \"13\", \"17\", \"17\"\n",
        "  ),\n",
        "  stringsAsFactors = FALSE\n",
        ")\n",
        "\n",
        "str(df)"
      ],
      "metadata": {
        "id": "Rj3jUSiLcjxv",
        "colab": {
          "base_uri": "https://localhost:8080/"
        },
        "outputId": "8626e135-99a5-4255-ddee-6a63c95c509a"
      },
      "execution_count": 162,
      "outputs": [
        {
          "output_type": "stream",
          "name": "stdout",
          "text": [
            "function (x, df1, df2, ncp, log = FALSE)  \n"
          ]
        }
      ]
    },
    {
      "cell_type": "markdown",
      "source": [
        "#### **Indexing a Data Frame**\n",
        "\n",
        "Indexing a data frame is quite similar to indexing a matrix. However, there are some additional operations specific to data frames:\n",
        "\n",
        "- Access columns by name: `df$name or df[[\"name\"]]`\n",
        "- Access rows and columns by position:\n",
        " - `df[i, ]` (`i-th` row),\n",
        " - or `df[,j]` (`j-th` column),\n",
        " - or `df[i, j]` (element in `i-th` row, `j-th` column).\n",
        "- Extract multiple rows or columns using vectors: `df[rowIdxVec, colIdxVec]`, `df[rowIdxVec, c(\"nameofCol1\", \"nameofCol2\")]`."
      ],
      "metadata": {
        "id": "FK-xouqXdbC9"
      }
    },
    {
      "cell_type": "code",
      "source": [
        "\n",
        "MXB107_ClassInfo[,\"Teaching_Staff\"]\n",
        "MXB107_ClassInfo$Teaching_Staff\n",
        "MXB107_ClassInfo[[\"Teaching_Staff\"]]\n",
        "\n",
        "#\n",
        "MXB107_ClassInfo[1,]\n",
        "MXB107_ClassInfo[1:2, c(\"Location\", \"Limit\")]"
      ],
      "metadata": {
        "id": "KjNdPzYwfVlL",
        "colab": {
          "base_uri": "https://localhost:8080/",
          "height": 325
        },
        "outputId": "8531c096-95ea-48ce-aee9-b39979decf29"
      },
      "execution_count": 163,
      "outputs": [
        {
          "output_type": "display_data",
          "data": {
            "text/html": [
              "<style>\n",
              ".list-inline {list-style: none; margin:0; padding: 0}\n",
              ".list-inline>li {display: inline-block}\n",
              ".list-inline>li:not(:last-child)::after {content: \"\\00b7\"; padding: 0 .5ex}\n",
              "</style>\n",
              "<ol class=list-inline><li>'Chris Drovandi'</li><li>'Chris Drovandi'</li><li>'Narayan Srinivasan'</li><li>'Narayan Srinivasan'</li><li>'Oliver Vu'</li><li>'Minh Long Nguyen'</li><li>'Ryan Kelly'</li><li>'Nicholas Gecks-Preston'</li><li>'Oliver Vu'</li><li>'Arwen Nugteren'</li><li>'Arwen Nugteren'</li><li>'Minh Long Nguyen'</li></ol>\n"
            ],
            "text/markdown": "1. 'Chris Drovandi'\n2. 'Chris Drovandi'\n3. 'Narayan Srinivasan'\n4. 'Narayan Srinivasan'\n5. 'Oliver Vu'\n6. 'Minh Long Nguyen'\n7. 'Ryan Kelly'\n8. 'Nicholas Gecks-Preston'\n9. 'Oliver Vu'\n10. 'Arwen Nugteren'\n11. 'Arwen Nugteren'\n12. 'Minh Long Nguyen'\n\n\n",
            "text/latex": "\\begin{enumerate*}\n\\item 'Chris Drovandi'\n\\item 'Chris Drovandi'\n\\item 'Narayan Srinivasan'\n\\item 'Narayan Srinivasan'\n\\item 'Oliver Vu'\n\\item 'Minh Long Nguyen'\n\\item 'Ryan Kelly'\n\\item 'Nicholas Gecks-Preston'\n\\item 'Oliver Vu'\n\\item 'Arwen Nugteren'\n\\item 'Arwen Nugteren'\n\\item 'Minh Long Nguyen'\n\\end{enumerate*}\n",
            "text/plain": [
              " [1] \"Chris Drovandi\"         \"Chris Drovandi\"         \"Narayan Srinivasan\"    \n",
              " [4] \"Narayan Srinivasan\"     \"Oliver Vu\"              \"Minh Long Nguyen\"      \n",
              " [7] \"Ryan Kelly\"             \"Nicholas Gecks-Preston\" \"Oliver Vu\"             \n",
              "[10] \"Arwen Nugteren\"         \"Arwen Nugteren\"         \"Minh Long Nguyen\"      "
            ]
          },
          "metadata": {}
        },
        {
          "output_type": "display_data",
          "data": {
            "text/html": [
              "<style>\n",
              ".list-inline {list-style: none; margin:0; padding: 0}\n",
              ".list-inline>li {display: inline-block}\n",
              ".list-inline>li:not(:last-child)::after {content: \"\\00b7\"; padding: 0 .5ex}\n",
              "</style>\n",
              "<ol class=list-inline><li>'Chris Drovandi'</li><li>'Chris Drovandi'</li><li>'Narayan Srinivasan'</li><li>'Narayan Srinivasan'</li><li>'Oliver Vu'</li><li>'Minh Long Nguyen'</li><li>'Ryan Kelly'</li><li>'Nicholas Gecks-Preston'</li><li>'Oliver Vu'</li><li>'Arwen Nugteren'</li><li>'Arwen Nugteren'</li><li>'Minh Long Nguyen'</li></ol>\n"
            ],
            "text/markdown": "1. 'Chris Drovandi'\n2. 'Chris Drovandi'\n3. 'Narayan Srinivasan'\n4. 'Narayan Srinivasan'\n5. 'Oliver Vu'\n6. 'Minh Long Nguyen'\n7. 'Ryan Kelly'\n8. 'Nicholas Gecks-Preston'\n9. 'Oliver Vu'\n10. 'Arwen Nugteren'\n11. 'Arwen Nugteren'\n12. 'Minh Long Nguyen'\n\n\n",
            "text/latex": "\\begin{enumerate*}\n\\item 'Chris Drovandi'\n\\item 'Chris Drovandi'\n\\item 'Narayan Srinivasan'\n\\item 'Narayan Srinivasan'\n\\item 'Oliver Vu'\n\\item 'Minh Long Nguyen'\n\\item 'Ryan Kelly'\n\\item 'Nicholas Gecks-Preston'\n\\item 'Oliver Vu'\n\\item 'Arwen Nugteren'\n\\item 'Arwen Nugteren'\n\\item 'Minh Long Nguyen'\n\\end{enumerate*}\n",
            "text/plain": [
              " [1] \"Chris Drovandi\"         \"Chris Drovandi\"         \"Narayan Srinivasan\"    \n",
              " [4] \"Narayan Srinivasan\"     \"Oliver Vu\"              \"Minh Long Nguyen\"      \n",
              " [7] \"Ryan Kelly\"             \"Nicholas Gecks-Preston\" \"Oliver Vu\"             \n",
              "[10] \"Arwen Nugteren\"         \"Arwen Nugteren\"         \"Minh Long Nguyen\"      "
            ]
          },
          "metadata": {}
        },
        {
          "output_type": "display_data",
          "data": {
            "text/html": [
              "<style>\n",
              ".list-inline {list-style: none; margin:0; padding: 0}\n",
              ".list-inline>li {display: inline-block}\n",
              ".list-inline>li:not(:last-child)::after {content: \"\\00b7\"; padding: 0 .5ex}\n",
              "</style>\n",
              "<ol class=list-inline><li>'Chris Drovandi'</li><li>'Chris Drovandi'</li><li>'Narayan Srinivasan'</li><li>'Narayan Srinivasan'</li><li>'Oliver Vu'</li><li>'Minh Long Nguyen'</li><li>'Ryan Kelly'</li><li>'Nicholas Gecks-Preston'</li><li>'Oliver Vu'</li><li>'Arwen Nugteren'</li><li>'Arwen Nugteren'</li><li>'Minh Long Nguyen'</li></ol>\n"
            ],
            "text/markdown": "1. 'Chris Drovandi'\n2. 'Chris Drovandi'\n3. 'Narayan Srinivasan'\n4. 'Narayan Srinivasan'\n5. 'Oliver Vu'\n6. 'Minh Long Nguyen'\n7. 'Ryan Kelly'\n8. 'Nicholas Gecks-Preston'\n9. 'Oliver Vu'\n10. 'Arwen Nugteren'\n11. 'Arwen Nugteren'\n12. 'Minh Long Nguyen'\n\n\n",
            "text/latex": "\\begin{enumerate*}\n\\item 'Chris Drovandi'\n\\item 'Chris Drovandi'\n\\item 'Narayan Srinivasan'\n\\item 'Narayan Srinivasan'\n\\item 'Oliver Vu'\n\\item 'Minh Long Nguyen'\n\\item 'Ryan Kelly'\n\\item 'Nicholas Gecks-Preston'\n\\item 'Oliver Vu'\n\\item 'Arwen Nugteren'\n\\item 'Arwen Nugteren'\n\\item 'Minh Long Nguyen'\n\\end{enumerate*}\n",
            "text/plain": [
              " [1] \"Chris Drovandi\"         \"Chris Drovandi\"         \"Narayan Srinivasan\"    \n",
              " [4] \"Narayan Srinivasan\"     \"Oliver Vu\"              \"Minh Long Nguyen\"      \n",
              " [7] \"Ryan Kelly\"             \"Nicholas Gecks-Preston\" \"Oliver Vu\"             \n",
              "[10] \"Arwen Nugteren\"         \"Arwen Nugteren\"         \"Minh Long Nguyen\"      "
            ]
          },
          "metadata": {}
        },
        {
          "output_type": "display_data",
          "data": {
            "text/html": [
              "<table class=\"dataframe\">\n",
              "<caption>A data.frame: 1 × 8</caption>\n",
              "<thead>\n",
              "\t<tr><th></th><th scope=col>Class</th><th scope=col>Type</th><th scope=col>Day</th><th scope=col>Location</th><th scope=col>Limit</th><th scope=col>Teaching_Staff</th><th scope=col>From</th><th scope=col>To</th></tr>\n",
              "\t<tr><th></th><th scope=col>&lt;chr&gt;</th><th scope=col>&lt;chr&gt;</th><th scope=col>&lt;chr&gt;</th><th scope=col>&lt;chr&gt;</th><th scope=col>&lt;dbl&gt;</th><th scope=col>&lt;chr&gt;</th><th scope=col>&lt;chr&gt;</th><th scope=col>&lt;chr&gt;</th></tr>\n",
              "</thead>\n",
              "<tbody>\n",
              "\t<tr><th scope=row>1</th><td>LEC01 01</td><td>Lecture (Internal)</td><td>Wed</td><td>GP B117</td><td>240</td><td>Chris Drovandi</td><td>11</td><td>13</td></tr>\n",
              "</tbody>\n",
              "</table>\n"
            ],
            "text/markdown": "\nA data.frame: 1 × 8\n\n| <!--/--> | Class &lt;chr&gt; | Type &lt;chr&gt; | Day &lt;chr&gt; | Location &lt;chr&gt; | Limit &lt;dbl&gt; | Teaching_Staff &lt;chr&gt; | From &lt;chr&gt; | To &lt;chr&gt; |\n|---|---|---|---|---|---|---|---|---|\n| 1 | LEC01 01 | Lecture (Internal) | Wed | GP B117 | 240 | Chris Drovandi | 11 | 13 |\n\n",
            "text/latex": "A data.frame: 1 × 8\n\\begin{tabular}{r|llllllll}\n  & Class & Type & Day & Location & Limit & Teaching\\_Staff & From & To\\\\\n  & <chr> & <chr> & <chr> & <chr> & <dbl> & <chr> & <chr> & <chr>\\\\\n\\hline\n\t1 & LEC01 01 & Lecture (Internal) & Wed & GP B117 & 240 & Chris Drovandi & 11 & 13\\\\\n\\end{tabular}\n",
            "text/plain": [
              "  Class    Type               Day Location Limit Teaching_Staff From To\n",
              "1 LEC01 01 Lecture (Internal) Wed GP B117  240   Chris Drovandi 11   13"
            ]
          },
          "metadata": {}
        },
        {
          "output_type": "display_data",
          "data": {
            "text/html": [
              "<table class=\"dataframe\">\n",
              "<caption>A data.frame: 2 × 2</caption>\n",
              "<thead>\n",
              "\t<tr><th></th><th scope=col>Location</th><th scope=col>Limit</th></tr>\n",
              "\t<tr><th></th><th scope=col>&lt;chr&gt;</th><th scope=col>&lt;dbl&gt;</th></tr>\n",
              "</thead>\n",
              "<tbody>\n",
              "\t<tr><th scope=row>1</th><td>GP B117</td><td> 240</td></tr>\n",
              "\t<tr><th scope=row>2</th><td>Online </td><td>1000</td></tr>\n",
              "</tbody>\n",
              "</table>\n"
            ],
            "text/markdown": "\nA data.frame: 2 × 2\n\n| <!--/--> | Location &lt;chr&gt; | Limit &lt;dbl&gt; |\n|---|---|---|\n| 1 | GP B117 |  240 |\n| 2 | Online  | 1000 |\n\n",
            "text/latex": "A data.frame: 2 × 2\n\\begin{tabular}{r|ll}\n  & Location & Limit\\\\\n  & <chr> & <dbl>\\\\\n\\hline\n\t1 & GP B117 &  240\\\\\n\t2 & Online  & 1000\\\\\n\\end{tabular}\n",
            "text/plain": [
              "  Location Limit\n",
              "1 GP B117   240 \n",
              "2 Online   1000 "
            ]
          },
          "metadata": {}
        }
      ]
    },
    {
      "cell_type": "markdown",
      "source": [
        "#### **Modifying a Data Frame**\n",
        "\n",
        "There are various approaches to modify a data frame. Some common ones are:\n",
        "\n",
        "- **Create a new column (e.g., `Semester`)**\n"
      ],
      "metadata": {
        "id": "SCPKSSuHqKLF"
      }
    },
    {
      "cell_type": "code",
      "source": [
        "MXB107_ClassInfo$Semester = \"Semester 2\" #This will automatically extended to match the number of rows\n",
        "str(MXB107_ClassInfo)"
      ],
      "metadata": {
        "id": "v5r6jR1DqbMM",
        "colab": {
          "base_uri": "https://localhost:8080/"
        },
        "outputId": "6d402429-775b-4371-f78f-8a0845a6cc37"
      },
      "execution_count": 164,
      "outputs": [
        {
          "output_type": "stream",
          "name": "stdout",
          "text": [
            "'data.frame':\t12 obs. of  9 variables:\n",
            " $ Class         : chr  \"LEC01 01\" \"LEC01 01\" \"PRC01 01\" \"PRC01 01\" ...\n",
            " $ Type          : chr  \"Lecture (Internal)\" \"Lecture (Online)\" \"Practical (Online)\" \"Practical (Internal)\" ...\n",
            " $ Day           : chr  \"Wed\" \"Wed\" \"Wed\" \"Thu\" ...\n",
            " $ Location      : chr  \"GP B117\" \"Online\" \"Online\" \"GP D413\" ...\n",
            " $ Limit         : num  240 1000 30 35 30 35 25 30 35 35 ...\n",
            " $ Teaching_Staff: chr  \"Chris Drovandi\" \"Chris Drovandi\" \"Narayan Srinivasan\" \"Narayan Srinivasan\" ...\n",
            " $ From          : chr  \"11\" \"11\" \"16\" \"16\" ...\n",
            " $ To            : chr  \"13\" \"13\" \"18\" \"18\" ...\n",
            " $ Semester      : chr  \"Semester 2\" \"Semester 2\" \"Semester 2\" \"Semester 2\" ...\n"
          ]
        }
      ]
    },
    {
      "cell_type": "markdown",
      "source": [
        "- **Modify a column**.\n",
        "\n",
        "We can observe that `From` and `To` columns are character vectors when they should be numeric ones. It's possible to override the existing character columns with the corresponding numeric ones.\n"
      ],
      "metadata": {
        "id": "hCOWaaA-qpL-"
      }
    },
    {
      "cell_type": "code",
      "source": [
        "MXB107_ClassInfo$From = as.numeric(MXB107_ClassInfo$From)\n",
        "MXB107_ClassInfo$To = as.numeric(MXB107_ClassInfo$To)\n",
        "str(MXB107_ClassInfo)"
      ],
      "metadata": {
        "id": "_Jgtb88XrFK5",
        "colab": {
          "base_uri": "https://localhost:8080/"
        },
        "outputId": "74dd8aa2-0338-456f-defa-8442a8a3268c"
      },
      "execution_count": 165,
      "outputs": [
        {
          "output_type": "stream",
          "name": "stdout",
          "text": [
            "'data.frame':\t12 obs. of  9 variables:\n",
            " $ Class         : chr  \"LEC01 01\" \"LEC01 01\" \"PRC01 01\" \"PRC01 01\" ...\n",
            " $ Type          : chr  \"Lecture (Internal)\" \"Lecture (Online)\" \"Practical (Online)\" \"Practical (Internal)\" ...\n",
            " $ Day           : chr  \"Wed\" \"Wed\" \"Wed\" \"Thu\" ...\n",
            " $ Location      : chr  \"GP B117\" \"Online\" \"Online\" \"GP D413\" ...\n",
            " $ Limit         : num  240 1000 30 35 30 35 25 30 35 35 ...\n",
            " $ Teaching_Staff: chr  \"Chris Drovandi\" \"Chris Drovandi\" \"Narayan Srinivasan\" \"Narayan Srinivasan\" ...\n",
            " $ From          : num  11 11 16 16 16 9 14 9 9 11 ...\n",
            " $ To            : num  13 13 18 18 18 11 16 11 11 13 ...\n",
            " $ Semester      : chr  \"Semester 2\" \"Semester 2\" \"Semester 2\" \"Semester 2\" ...\n"
          ]
        }
      ]
    },
    {
      "cell_type": "markdown",
      "source": [
        "- **Modify a row**"
      ],
      "metadata": {
        "id": "LzJCaXV2sEAv"
      }
    },
    {
      "cell_type": "code",
      "source": [
        "print(MXB107_ClassInfo[1,])\n",
        "\n",
        "MXB107_ClassInfo[1,] = list(\"1 LEC01 01\", \"Lecture\", \"Wed\", \"GP B117\", 240, \"Chris Drovandi\", 11, 13, \"Semester 2\")\n",
        "\n",
        "print(MXB107_ClassInfo[1,])"
      ],
      "metadata": {
        "id": "PKAOrpGGtBkF",
        "colab": {
          "base_uri": "https://localhost:8080/"
        },
        "outputId": "6a5ae8f9-5644-4ed3-dcd6-f88a0636f5ed"
      },
      "execution_count": 166,
      "outputs": [
        {
          "output_type": "stream",
          "name": "stdout",
          "text": [
            "     Class               Type Day Location Limit Teaching_Staff From To\n",
            "1 LEC01 01 Lecture (Internal) Wed  GP B117   240 Chris Drovandi   11 13\n",
            "    Semester\n",
            "1 Semester 2\n",
            "       Class    Type Day Location Limit Teaching_Staff From To   Semester\n",
            "1 1 LEC01 01 Lecture Wed  GP B117   240 Chris Drovandi   11 13 Semester 2\n"
          ]
        }
      ]
    },
    {
      "cell_type": "markdown",
      "source": [
        "- **Modify a single entry**\n",
        "\n",
        "This can be done the same way as modifying a single entry in a matrix."
      ],
      "metadata": {
        "id": "AWz4cm6xtAG0"
      }
    },
    {
      "cell_type": "code",
      "source": [
        "print(MXB107_ClassInfo[1,])\n",
        "MXB107_ClassInfo[1,\"From\"] = 13\n",
        "MXB107_ClassInfo[1,\"To\"] = 15\n",
        "print(MXB107_ClassInfo[1,])"
      ],
      "metadata": {
        "id": "p1WM1H8ntsMs"
      },
      "execution_count": null,
      "outputs": []
    },
    {
      "cell_type": "markdown",
      "source": [
        "#### **Common Functions for Working with Data Frames**\n",
        "\n",
        "- `str(df)` — displays the structure of the data frame  \n",
        "- `summary(df)` — provides summary statistics for each column  \n",
        "- `nrow(df)` and `ncol(df)` — return the number of rows and columns  \n",
        "- `head(df)` and `tail(df)` — show the first or last few rows  \n",
        "- `names(df)` or `colnames(df)` — get or set the column names  \n",
        "- `subset(df, condition)` — extract rows that meet a logical condition  \n"
      ],
      "metadata": {
        "id": "FYe-C7sAfmiV"
      }
    },
    {
      "cell_type": "code",
      "source": [
        "subset(MXB107_ClassInfo, MXB107_ClassInfo$Teaching_Staff == \"Oliver Vu\")"
      ],
      "metadata": {
        "id": "JDBz0X4sf6LY"
      },
      "execution_count": null,
      "outputs": []
    },
    {
      "cell_type": "markdown",
      "source": [
        "#### **Loading a Data Frame from a .csv File**\n",
        "\n",
        "In practice, we may not need to create a data frame from scratch, but rather load it from an external file. A common format for storing tabular data is CSV (Comma-Separated Values). We can use the `read.csv()` function to load data from a CSV file.\n",
        "\n",
        "Notice that in our file systems. There is a folder named `sample_data`, we will load the `california_housing_test.csv` file to R."
      ],
      "metadata": {
        "id": "8jit4C8igI4i"
      }
    },
    {
      "cell_type": "code",
      "source": [
        "CalTest = read.csv(\"./sample_data/california_housing_test.csv\")\n",
        "dim(CalTest)\n",
        "str(CalTest)"
      ],
      "metadata": {
        "id": "VGE-lX-Eg6I2"
      },
      "execution_count": null,
      "outputs": []
    },
    {
      "cell_type": "code",
      "source": [
        "head(CalTest, 3)"
      ],
      "metadata": {
        "id": "7f2vaXRJhEDA"
      },
      "execution_count": null,
      "outputs": []
    },
    {
      "cell_type": "markdown",
      "source": [
        "#### **Exercise**\n",
        "\n",
        "Load the `california_housing_train.csv` to R as a data frame. Subset the rows where `median_income < 1` and `housing_median_age < 18`. How many observations are left before and after extraction?"
      ],
      "metadata": {
        "id": "Fwe56UEIhKxx"
      }
    },
    {
      "cell_type": "code",
      "source": [],
      "metadata": {
        "id": "pkF1WOsMhgww"
      },
      "execution_count": null,
      "outputs": []
    },
    {
      "cell_type": "markdown",
      "source": [
        "<details>\n",
        "<summary>▶️ Click to show the solution</summary>\n",
        "\n",
        "```r\n",
        "CalTrain = read.csv(\"./sample_data/california_housing_train.csv\")\n",
        "dim(CalTrain)\n",
        "subCalTrain = subset(CalTrain, (CalTrain$median_income < 1) & CalTrain$housing_median_age < 18)\n",
        "dim(subCalTrain)\n",
        "```\n",
        "\n",
        "</details>"
      ],
      "metadata": {
        "id": "vvNGOZVpid2o"
      }
    },
    {
      "cell_type": "markdown",
      "source": [
        "## **Working with the R File System**\n",
        "\n",
        "Knowing your current working directory is important when working with files in R. We can check it using the `getwd()` function."
      ],
      "metadata": {
        "id": "Ic_ovXm36w8U"
      }
    },
    {
      "cell_type": "code",
      "source": [
        "getwd()"
      ],
      "metadata": {
        "id": "AzlMScBP619O"
      },
      "execution_count": null,
      "outputs": []
    },
    {
      "cell_type": "markdown",
      "source": [
        "\n",
        "On Colab, R runs on a temporary virtual Linux environment, so `getwd()` will typically return `/content`, which is the default working directory during the session.\n",
        "\n",
        "If you need to change the working directory. For example, to access data stored in a different folder—we can use the `setwd(\"your/path/here\")` function. Always ensure the path is correct, especially when running notebooks on different systems."
      ],
      "metadata": {
        "id": "LPfPpCTQ7Ya4"
      }
    },
    {
      "cell_type": "markdown",
      "source": [
        "#### **Exercise**\n",
        "\n",
        "Create a new directory named `our_working_directory` via `dir.create(\"our_working_directory\")`. It will be a sub-directory of `/content`. Then, change the working directory to the newly created sub-directory.\n",
        "\n"
      ],
      "metadata": {
        "id": "WgktOdZY7zhR"
      }
    },
    {
      "cell_type": "code",
      "source": [],
      "metadata": {
        "id": "WkPAlm_P8BqO"
      },
      "execution_count": null,
      "outputs": []
    },
    {
      "cell_type": "markdown",
      "source": [
        "<details>\n",
        "<summary>▶️ Click to show the solution</summary>\n",
        "\n",
        "```r\n",
        "dir.create(\"our_working_directory\")\n",
        "setwd(\"./our_working_directory\")\n",
        "```\n",
        "\n",
        "</details>"
      ],
      "metadata": {
        "id": "0_s8kki193Mn"
      }
    },
    {
      "cell_type": "markdown",
      "source": [
        "Check the current working directory:"
      ],
      "metadata": {
        "id": "ja770aRMZ6DS"
      }
    },
    {
      "cell_type": "code",
      "source": [
        "getwd()"
      ],
      "metadata": {
        "id": "Npt7V6wxZpPQ"
      },
      "execution_count": null,
      "outputs": []
    },
    {
      "cell_type": "markdown",
      "source": [
        "All datasets and core functionalities needed for this unit are hosted online in the following GitHub repository:\n",
        "`\"https://github.com/edelweiss611428/MXB107-Notebooks/tree/main\"`\n",
        "We will fork (i.e., make a copy of) the repository onto our virtual computer and change the working directory to access its contents.\n",
        "\n",
        "**Do not modify the following**:"
      ],
      "metadata": {
        "id": "VLNikK3CYWIx"
      }
    },
    {
      "cell_type": "code",
      "source": [
        "setwd(\"/content\")\n",
        "\n",
        "# Remove `MXB107-Notebooks` if exists,\n",
        "if (dir.exists(\"MXB107-Notebooks\")) {\n",
        "  system(\"rm -rf MXB107-Notebooks\")\n",
        "}\n",
        "\n",
        "# Fork the repository\n",
        "system(\"git clone https://github.com/edelweiss611428/MXB107-Notebooks.git\")\n",
        "\n",
        "# Change working directory to \"MXB107-Notebooks\"\n",
        "setwd(\"MXB107-Notebooks\")\n",
        "\n",
        "# Print the current working directory\n",
        "getwd()\n",
        "\n",
        "# List contents inside the directory\n",
        "list.files()"
      ],
      "metadata": {
        "id": "tYGemispahiY"
      },
      "execution_count": null,
      "outputs": []
    },
    {
      "cell_type": "markdown",
      "source": [
        "## **Packages in R**"
      ],
      "metadata": {
        "id": "z9CXkJOj_QUw"
      }
    },
    {
      "cell_type": "markdown",
      "source": [
        "R packages add new features that aren’t included in base R. You install packages via `install.packages(\"pkg_name\")` to access these extra tools and load them with `library(\"pkg_name\")`.\n",
        "\n",
        "Many popular R packages are already available on Colab, so you often don’t need to install them, saving time. Therefore, it’s best to check if a package is installed before attempting to install or load it blindly.\n",
        "\n",
        "Here, the `MASS` package is available in base R, so the system won't attempt to install `MASS`."
      ],
      "metadata": {
        "id": "B7AP5Tch_oI7"
      }
    },
    {
      "cell_type": "code",
      "source": [
        "if (!require(\"MASS\")) install.packages(\"MASS\"); library(\"MASS\")"
      ],
      "metadata": {
        "id": "tq0Pj8bL_fow"
      },
      "execution_count": null,
      "outputs": []
    },
    {
      "cell_type": "markdown",
      "source": [
        "Most reviewed R packages are available on [CRAN](https://cran.r-project.org/web/packages/available_packages_by_name.html) and [Bioconductor](https://bioconductor.org/packages/release/bioc/), but many are also available as GitHub repositories.\n",
        "\n",
        "For CRAN packages, it is generally sufficient to use `install.packages(\"pkg_name\")` to install them, but installing from other repositories like GitHub can be more complicated."
      ],
      "metadata": {
        "id": "sJ51gWSpBGd4"
      }
    },
    {
      "cell_type": "markdown",
      "source": [
        "#### **Exercise**\n",
        "\n",
        "Check if the CRAN package `\"dissimilarities\"` is installed. If it is, load the package; if not, install it first and then load it."
      ],
      "metadata": {
        "id": "FPduwg9MBkxg"
      }
    },
    {
      "cell_type": "code",
      "source": [],
      "metadata": {
        "collapsed": true,
        "id": "KSjcj_whBkUC"
      },
      "execution_count": null,
      "outputs": []
    },
    {
      "cell_type": "markdown",
      "source": [
        "<details>\n",
        "<summary>▶️ Click to show the solution</summary>\n",
        "\n",
        "```r\n",
        "if (!require(\"dissimilarities\")) install.packages(\"dissimilarities\"); library(\"dissimilarities\")\n",
        "```\n",
        "\n",
        "</details>"
      ],
      "metadata": {
        "id": "1vaX2hnlCI7N"
      }
    },
    {
      "cell_type": "markdown",
      "source": [
        "In general, you won’t need to manually install any packages in this unit. If you fork the unit's GitHub repository, change the directory to `\"MXB107-Notebooks\"` and run the `\"R/preConfigurated.R\"` script, it will automatically load and install all the necessary packages for you.\n",
        "\n",
        "**Do not modify the following**:"
      ],
      "metadata": {
        "id": "Sur65TFffeAD"
      }
    },
    {
      "cell_type": "code",
      "source": [
        "source(\"R/preConfigurated.R\")"
      ],
      "metadata": {
        "id": "_QFFnj9FfteK"
      },
      "execution_count": null,
      "outputs": []
    },
    {
      "cell_type": "markdown",
      "source": [
        "This will also load some prepared utility functions that are not available in base R."
      ],
      "metadata": {
        "id": "2yQOUKXwqlOn"
      }
    },
    {
      "cell_type": "markdown",
      "source": [
        "## **Getting Help in R**\n",
        "\n",
        "If you find yourself forgetting what a particular function does or what the names of the arguments (inputs) you can pass it are, you can use the `help()` function or equivalently `?a_function`. For example, try running the following:"
      ],
      "metadata": {
        "id": "e5H_h__3Dgaj"
      }
    },
    {
      "cell_type": "code",
      "source": [
        "help(mean)"
      ],
      "metadata": {
        "id": "fnIeAZCCD8gs"
      },
      "execution_count": null,
      "outputs": []
    },
    {
      "cell_type": "code",
      "source": [
        "?mean"
      ],
      "metadata": {
        "id": "2kJZOatuFEJS"
      },
      "execution_count": null,
      "outputs": []
    },
    {
      "cell_type": "markdown",
      "source": [
        "What you notice is that it prints the help info about calculating the arithmetic mean, where we are told that:\n",
        "- It requires an R object x which is either a numeric vector, logical vector or date, date-time or time interval,\n",
        "- And we can optionally tell it how much of the data to trim,\n",
        "- And whether or not we want drop any missing values from the calculation.\n",
        "\n",
        "One disadvantage of Colab is that it does not render R documentation files very well, as it is primarily designed for Python. However, the interface and documentation display improve significantly when using dedicated IDEs like [RStudio](https://posit.co/download/rstudio-desktop/)."
      ],
      "metadata": {
        "id": "9AbHoZSzELR7"
      }
    },
    {
      "cell_type": "markdown",
      "source": [
        "## **Tests (Optional)**"
      ],
      "metadata": {
        "id": "YrTWz6GdoIA8"
      }
    },
    {
      "cell_type": "markdown",
      "source": [
        "**Do not modify the following**:"
      ],
      "metadata": {
        "id": "goMcrNoeqaWs"
      }
    },
    {
      "cell_type": "code",
      "source": [
        "\n",
        "if (!require(\"testthat\")) install.packages(\"testthat\"); library(\"testthat\")\n",
        "\n",
        "test_that(\"Test if all packages have been loaded\", {\n",
        "\n",
        "   expect_true(all(c(\"ggplot2\", \"tidyr\", \"dplyr\", \"stringr\", \"magrittr\") %in% loadedNamespaces()))\n",
        "\n",
        "})\n",
        "\n",
        "test_that(\"Test if all utility functions have been loaded\", {\n",
        "  expect_true(exists(\"skewness\"))\n",
        "  expect_true(exists(\"kurtosis\"))\n",
        "})"
      ],
      "metadata": {
        "id": "eOkr5rpOoaIz"
      },
      "execution_count": null,
      "outputs": []
    }
  ]
}